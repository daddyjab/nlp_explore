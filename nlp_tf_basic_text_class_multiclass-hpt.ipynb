{
 "cells": [
  {
   "cell_type": "markdown",
   "metadata": {},
   "source": [
    "# Tensorflow: Basic Text Classification - Multiclass Label, with Hyperparameter Tuning via HParams\n",
    "\n",
    "Reference:\n",
    "* https://www.tensorflow.org/tutorials/keras/text_classification#exercise_multi-class_classification_on_stack_overflow_questions\n",
    "* https://www.tensorflow.org/tutorials/keras/keras_tuner"
   ]
  },
  {
   "cell_type": "markdown",
   "metadata": {},
   "source": [
    "## Setup"
   ]
  },
  {
   "cell_type": "code",
   "execution_count": 4,
   "metadata": {},
   "outputs": [],
   "source": [
    "import io, os, re, shutil\n",
    "import string\n",
    "import matplotlib.pyplot as plt\n",
    "import datetime as dt\n",
    "import numpy as np\n",
    "\n",
    "import pandas as pd\n",
    "pd.options.display.float_format = '{:,.3f}'.format\n",
    "pd.options.display.max_rows = 100\n",
    "pd.options.display.max_columns = 300\n",
    "\n",
    "import tensorflow as tf\n",
    "from tensorflow.keras import layers, losses\n",
    "\n",
    "# Hyperparameter tuner using Keras Tuner\n",
    "import keras_tuner as kt\n",
    "\n",
    "%load_ext tensorboard"
   ]
  },
  {
   "cell_type": "markdown",
   "metadata": {
    "tags": []
   },
   "source": [
    "## Download the Stack Overflow Dataset"
   ]
  },
  {
   "cell_type": "code",
   "execution_count": 5,
   "metadata": {},
   "outputs": [],
   "source": [
    "# Prepare to download the dataset to be used to the location CACHE_DIR/DATASET_SUBDIR\n",
    "CACHE_DIR = '.\\\\data'\n",
    "DATASET_URL = \"http://storage.googleapis.com/download.tensorflow.org/data/stack_overflow_16k.tar.gz\"\n",
    "DATASET_SUBDIR = 'stackoverflowdb'\n",
    "DATASET_ZIPFILE = 'stack_overflow_16k.tar.gz'"
   ]
  },
  {
   "cell_type": "code",
   "execution_count": 6,
   "metadata": {},
   "outputs": [],
   "source": [
    "# Download the targeted dataset\n",
    "# dataset = tf.keras.utils.get_file(\n",
    "#             DATASET_ZIPFILE, DATASET_URL,\n",
    "#             untar=True, cache_dir=CACHE_DIR, cache_subdir=DATASET_SUBDIR)"
   ]
  },
  {
   "cell_type": "code",
   "execution_count": 7,
   "metadata": {},
   "outputs": [
    {
     "name": "stdout",
     "output_type": "stream",
     "text": [
      ".\\data\\stackoverflowdb\n"
     ]
    },
    {
     "data": {
      "text/plain": [
       "['README.md', 'stack_overflow_16k.tar.gz', 'test', 'train']"
      ]
     },
     "execution_count": 7,
     "metadata": {},
     "output_type": "execute_result"
    }
   ],
   "source": [
    "dataset_dir = os.path.join( CACHE_DIR, DATASET_SUBDIR )\n",
    "print(dataset_dir)\n",
    "os.listdir(dataset_dir)"
   ]
  },
  {
   "cell_type": "code",
   "execution_count": 8,
   "metadata": {},
   "outputs": [
    {
     "name": "stdout",
     "output_type": "stream",
     "text": [
      ".\\data\\stackoverflowdb\\train\n"
     ]
    },
    {
     "data": {
      "text/plain": [
       "['csharp', 'java', 'javascript', 'python']"
      ]
     },
     "execution_count": 8,
     "metadata": {},
     "output_type": "execute_result"
    }
   ],
   "source": [
    "# Get the directory name of the training data\n",
    "train_dir = os.path.join(dataset_dir, 'train')\n",
    "print(train_dir)\n",
    "os.listdir(train_dir)"
   ]
  },
  {
   "cell_type": "code",
   "execution_count": 9,
   "metadata": {},
   "outputs": [
    {
     "name": "stdout",
     "output_type": "stream",
     "text": [
      ".\\data\\stackoverflowdb\\test\n"
     ]
    },
    {
     "data": {
      "text/plain": [
       "['csharp', 'java', 'javascript', 'python']"
      ]
     },
     "execution_count": 9,
     "metadata": {},
     "output_type": "execute_result"
    }
   ],
   "source": [
    "test_dir = os.path.join(dataset_dir, 'test')\n",
    "print(test_dir)\n",
    "os.listdir(test_dir)"
   ]
  },
  {
   "cell_type": "code",
   "execution_count": 10,
   "metadata": {},
   "outputs": [],
   "source": [
    "# # Remove directory containing unsupervised examples\n",
    "# remove_dir = os.path.join(train_dir, 'unsup')\n",
    "# shutil.rmtree(remove_dir)"
   ]
  },
  {
   "cell_type": "code",
   "execution_count": 11,
   "metadata": {},
   "outputs": [
    {
     "name": "stdout",
     "output_type": "stream",
     "text": [
      "Found 8000 files belonging to 4 classes.\n",
      "Using 6400 files for training.\n",
      "Found 8000 files belonging to 4 classes.\n",
      "Using 1600 files for validation.\n",
      "Found 8000 files belonging to 4 classes.\n"
     ]
    }
   ],
   "source": [
    "batch_size = 32\n",
    "seed = 42\n",
    "raw_train_ds = tf.keras.preprocessing.text_dataset_from_directory(\n",
    "            train_dir, batch_size=batch_size,\n",
    "            validation_split=0.2, subset='training',\n",
    "            seed=seed)\n",
    "\n",
    "raw_val_ds = tf.keras.preprocessing.text_dataset_from_directory(\n",
    "            train_dir, batch_size=batch_size,\n",
    "            validation_split=0.2, subset='validation',\n",
    "            seed=seed)\n",
    "\n",
    "raw_test_ds = tf.keras.preprocessing.text_dataset_from_directory(\n",
    "            test_dir, batch_size=batch_size)"
   ]
  },
  {
   "cell_type": "code",
   "execution_count": 12,
   "metadata": {},
   "outputs": [
    {
     "name": "stdout",
     "output_type": "stream",
     "text": [
      "Label: 0 => Class: csharp\n",
      "Label: 1 => Class: java\n",
      "Label: 2 => Class: javascript\n",
      "Label: 3 => Class: python\n"
     ]
    }
   ],
   "source": [
    "for i,c in enumerate(raw_train_ds.class_names):\n",
    "    print(f\"Label: {i} => Class: {c}\")"
   ]
  },
  {
   "cell_type": "code",
   "execution_count": 13,
   "metadata": {},
   "outputs": [],
   "source": [
    "# for text_batch, label_batch in raw_train_ds.take(1):\n",
    "#   for i in range(1):\n",
    "#     print(f\"Label: {label_batch.numpy()[i]} ({raw_train_ds.class_names[label_batch.numpy()[i]]})\"\n",
    "#           f\" => Post: {text_batch.numpy()[i]}\")"
   ]
  },
  {
   "cell_type": "markdown",
   "metadata": {},
   "source": [
    "## Text Preprocessing"
   ]
  },
  {
   "cell_type": "code",
   "execution_count": 14,
   "metadata": {},
   "outputs": [],
   "source": [
    "# Create a custom standardization function to strip HTML break tags '<br />'.\n",
    "def custom_standardization(input_data):\n",
    "    lowercase = tf.strings.lower(input_data)\n",
    "    stripped_html = tf.strings.regex_replace(lowercase, '<br />', ' ')\n",
    "    stripped_punct = tf.strings.regex_replace(stripped_html, '[%s]' % re.escape(string.punctuation), '')\n",
    "    return stripped_punct"
   ]
  },
  {
   "cell_type": "code",
   "execution_count": 15,
   "metadata": {},
   "outputs": [],
   "source": [
    "# Vocabulary size (features) and number of words in a sequence (review).\n",
    "# max_features = 10000\n",
    "# sequence_length = 250\n",
    "max_features = 15000\n",
    "sequence_length = 350\n",
    "\n",
    "# Use the text vectorization layer to normalize, split, and map strings to\n",
    "# integers. Note that the layer uses the custom standardization defined above.\n",
    "# Set maximum_sequence length as all samples are not of the same length.\n",
    "vectorize_layer = layers.TextVectorization(\n",
    "                    standardize=custom_standardization,\n",
    "                    max_tokens=max_features,\n",
    "                    output_mode='int',\n",
    "                    output_sequence_length=sequence_length)"
   ]
  },
  {
   "cell_type": "code",
   "execution_count": 16,
   "metadata": {},
   "outputs": [],
   "source": [
    "# Make a text-only dataset (no labels) and call adapt to build the vocabulary.\n",
    "train_text = raw_train_ds.map(lambda x, y: x)\n",
    "vectorize_layer.adapt(train_text)"
   ]
  },
  {
   "cell_type": "code",
   "execution_count": 17,
   "metadata": {},
   "outputs": [],
   "source": [
    "def vectorize_text(text, label):\n",
    "    text = tf.expand_dims(text, -1)\n",
    "    return vectorize_layer(text), label"
   ]
  },
  {
   "cell_type": "code",
   "execution_count": 18,
   "metadata": {},
   "outputs": [],
   "source": [
    "# # retrieve a batch (of 32 reviews and labels) from the dataset\n",
    "# text_batch, label_batch = next(iter(raw_train_ds))\n",
    "# first_review, first_label = text_batch[0], label_batch[0]\n",
    "# print(\"Review\", first_review)\n",
    "# print(\"Label\", raw_train_ds.class_names[first_label])\n",
    "# print(\"Vectorized review\", vectorize_text(first_review, first_label))"
   ]
  },
  {
   "cell_type": "code",
   "execution_count": 19,
   "metadata": {},
   "outputs": [],
   "source": [
    "# print(\"1287 ---> \",vectorize_layer.get_vocabulary()[1287])\n",
    "# print(\" 313 ---> \",vectorize_layer.get_vocabulary()[313])\n",
    "# print('Vocabulary size: {}'.format(len(vectorize_layer.get_vocabulary())))"
   ]
  },
  {
   "cell_type": "code",
   "execution_count": 20,
   "metadata": {},
   "outputs": [],
   "source": [
    "# Create vectorized training, validation, and test datasets\n",
    "train_ds = raw_train_ds.map(vectorize_text)\n",
    "val_ds = raw_val_ds.map(vectorize_text)\n",
    "test_ds = raw_test_ds.map(vectorize_text)"
   ]
  },
  {
   "cell_type": "code",
   "execution_count": 21,
   "metadata": {},
   "outputs": [],
   "source": [
    "# [ x for x in train_ds.take(1).as_numpy_iterator() ]\n",
    "# print(dir(train_ds))"
   ]
  },
  {
   "cell_type": "markdown",
   "metadata": {},
   "source": [
    "## Configure the Dataset for Performance"
   ]
  },
  {
   "cell_type": "code",
   "execution_count": 22,
   "metadata": {},
   "outputs": [],
   "source": [
    "AUTOTUNE = tf.data.AUTOTUNE\n",
    "train_ds = train_ds.cache().prefetch(buffer_size=AUTOTUNE)\n",
    "val_ds = val_ds.cache().prefetch(buffer_size=AUTOTUNE)\n",
    "test_ds = test_ds.cache().prefetch(buffer_size=AUTOTUNE)"
   ]
  },
  {
   "cell_type": "markdown",
   "metadata": {},
   "source": [
    "## Create a function to build and compile a model"
   ]
  },
  {
   "cell_type": "code",
   "execution_count": 23,
   "metadata": {},
   "outputs": [],
   "source": [
    "def model_builder(hp):\n",
    "    model = tf.keras.Sequential()\n",
    "        \n",
    "    # Tune the embedding dimensions\n",
    "    hp_embedding_dims = hp.Int('embedding_dimensions', min_value=16, max_value=64, step=16)\n",
    "    model.add( layers.Embedding( max_features+1, hp_embedding_dims ) )\n",
    "\n",
    "    # Tune the dropout rate in the first Dropout layer\n",
    "    hp_dropout_rate_1 = hp.Float('dropout_rate_1', min_value=0.0, max_value=0.3, step=0.1)\n",
    "    model.add( layers.Dropout(hp_dropout_rate_1) )\n",
    "    \n",
    "    model.add( layers.GlobalAveragePooling1D() )\n",
    "\n",
    "    # Tune the dropout rate in the second Dropout layer\n",
    "    hp_dropout_rate_2 = hp.Float('dropout_rate_2', min_value=0.0, max_value=0.3, step=0.1)\n",
    "    model.add( layers.Dropout(hp_dropout_rate_2) )\n",
    "    \n",
    "    model.add( layers.Dense(4) )\n",
    "    \n",
    "    # Tune the learning rate for the optimizer\n",
    "    hp_learning_rate = hp.Choice('learning_rate', values=[1e-2, 1e-3, 1e-4])    \n",
    "    model.compile(\n",
    "        optimizer=tf.keras.optimizers.Adam( learning_rate=hp_learning_rate ),\n",
    "        loss=losses.SparseCategoricalCrossentropy(from_logits=True),\n",
    "        metrics=['accuracy']\n",
    "        )    \n",
    "    \n",
    "    return model\n"
   ]
  },
  {
   "cell_type": "markdown",
   "metadata": {},
   "source": [
    "## Create a Classification Model"
   ]
  },
  {
   "cell_type": "code",
   "execution_count": 24,
   "metadata": {},
   "outputs": [],
   "source": [
    "# embedding_dim = 32\n",
    "# model = tf.keras.Sequential( [\n",
    "#     layers.Embedding( max_features+1, embedding_dim ),\n",
    "#     layers.Dropout(0.2),\n",
    "#     layers.GlobalAveragePooling1D(),\n",
    "#     layers.Dropout(0.2),\n",
    "#     layers.Dense(4)\n",
    "#     ])\n",
    "\n",
    "# model.summary()"
   ]
  },
  {
   "cell_type": "markdown",
   "metadata": {},
   "source": [
    "## Compile and Train the Model"
   ]
  },
  {
   "cell_type": "code",
   "execution_count": 25,
   "metadata": {},
   "outputs": [
    {
     "name": "stdout",
     "output_type": "stream",
     "text": [
      "Prepared Tensorboard log dir: .\\logs\\fit_20211119-153512\n"
     ]
    }
   ],
   "source": [
    "# tensorboard_callback = tf.keras.callbacks.TensorBoard(log_dir='logs')\n",
    "LOGS_ROOTDIR = os.path.join('.', 'logs')\n",
    "this_run_log_dir = os.path.join( LOGS_ROOTDIR, \"fit_\" + dt.datetime.now().strftime(\"%Y%m%d-%H%M%S\") )\n",
    "tensorboard_callback = tf.keras.callbacks.TensorBoard(log_dir=this_run_log_dir, histogram_freq=1)\n",
    "print(f\"Prepared Tensorboard log dir: {this_run_log_dir}\")\n",
    "\n",
    "# Stop epochs if validation loss is increasing\n",
    "earlystopping_callback = tf.keras.callbacks.EarlyStopping(monitor='val_loss', patience=5)"
   ]
  },
  {
   "cell_type": "code",
   "execution_count": 26,
   "metadata": {},
   "outputs": [],
   "source": [
    "# model.compile(\n",
    "#     optimizer='adam',\n",
    "#     loss=losses.SparseCategoricalCrossentropy(from_logits=True),\n",
    "#     metrics=['accuracy']\n",
    "#     )"
   ]
  },
  {
   "cell_type": "code",
   "execution_count": 27,
   "metadata": {},
   "outputs": [],
   "source": [
    "# epochs = 100\n",
    "# history = model.fit(\n",
    "#     train_ds,\n",
    "#     validation_data=val_ds,\n",
    "#     epochs=epochs,\n",
    "#     callbacks=[tensorboard_callback, earlystopping_callback]\n",
    "#     )"
   ]
  },
  {
   "cell_type": "markdown",
   "metadata": {},
   "source": [
    "## Instantiate the Tuner and Perform Hypertuning"
   ]
  },
  {
   "cell_type": "code",
   "execution_count": 28,
   "metadata": {},
   "outputs": [],
   "source": [
    "tuner = kt.Hyperband(model_builder,\n",
    "                     objective='val_accuracy',\n",
    "                     max_epochs=100,\n",
    "                     factor=3,\n",
    "                     directory='hpt_dir',\n",
    "                     project_name='nlp_multiclass_hpt')"
   ]
  },
  {
   "cell_type": "code",
   "execution_count": 29,
   "metadata": {},
   "outputs": [
    {
     "name": "stdout",
     "output_type": "stream",
     "text": [
      "Trial 243 Complete [00h 01m 50s]\n",
      "val_accuracy: 0.8412500023841858\n",
      "\n",
      "Best val_accuracy So Far: 0.8418750166893005\n",
      "Total elapsed time: 01h 10m 54s\n",
      "INFO:tensorflow:Oracle triggered exit\n",
      "Optimal hyperparameters:\n",
      "<keras_tuner.engine.hyperparameters.HyperParameters object at 0x000001BA6BAA00D0>\n"
     ]
    }
   ],
   "source": [
    "tuner.search(\n",
    "    train_ds,\n",
    "    validation_data=val_ds,\n",
    "    epochs=100,\n",
    "    callbacks=[earlystopping_callback]\n",
    "    )\n",
    "\n",
    "# Get the optimal hyperparameters\n",
    "best_hps = tuner.get_best_hyperparameters( num_trials=1 )[0]\n",
    "print(f\"Optimal hyperparameters:\\n{best_hps.values}\")"
   ]
  },
  {
   "cell_type": "code",
   "execution_count": 35,
   "metadata": {},
   "outputs": [
    {
     "data": {
      "text/plain": [
       "{'embedding_dimensions': 64,\n",
       " 'dropout_rate_1': 0.30000000000000004,\n",
       " 'dropout_rate_2': 0.1,\n",
       " 'learning_rate': 0.001,\n",
       " 'tuner/epochs': 100,\n",
       " 'tuner/initial_epoch': 34,\n",
       " 'tuner/bracket': 2,\n",
       " 'tuner/round': 2,\n",
       " 'tuner/trial_id': '46926b7279b8fa2bcff7683fa23a921d'}"
      ]
     },
     "execution_count": 35,
     "metadata": {},
     "output_type": "execute_result"
    }
   ],
   "source": [
    "# Best hyperparameter tuning values\n",
    "best_hps.values\n",
    "\n",
    "# Tuned hyperparameters: 11/19/21 (Trials: 243, Total elapsed time: 01h 10m 54s, Best val_accuracy So Far: 0.8418750166893005)\n",
    "# {'embedding_dimensions': 64,\n",
    "#  'dropout_rate_1': 0.30000000000000004,\n",
    "#  'dropout_rate_2': 0.1,\n",
    "#  'learning_rate': 0.001,\n",
    "#  'tuner/epochs': 100,\n",
    "#  'tuner/initial_epoch': 34,\n",
    "#  'tuner/bracket': 2,\n",
    "#  'tuner/round': 2,\n",
    "#  'tuner/trial_id': '46926b7279b8fa2bcff7683fa23a921d'}"
   ]
  },
  {
   "cell_type": "markdown",
   "metadata": {},
   "source": [
    "## Train the Tuned Model"
   ]
  },
  {
   "cell_type": "code",
   "execution_count": 36,
   "metadata": {},
   "outputs": [
    {
     "name": "stdout",
     "output_type": "stream",
     "text": [
      "Epoch 1/150\n",
      "200/200 [==============================] - 6s 27ms/step - loss: 1.3728 - accuracy: 0.3666 - val_loss: 1.3534 - val_accuracy: 0.4731\n",
      "Epoch 2/150\n",
      "200/200 [==============================] - 5s 25ms/step - loss: 1.3165 - accuracy: 0.5167 - val_loss: 1.2766 - val_accuracy: 0.6006\n",
      "Epoch 3/150\n",
      "200/200 [==============================] - 5s 25ms/step - loss: 1.2144 - accuracy: 0.5969 - val_loss: 1.1626 - val_accuracy: 0.6650\n",
      "Epoch 4/150\n",
      "200/200 [==============================] - 5s 25ms/step - loss: 1.0897 - accuracy: 0.6737 - val_loss: 1.0471 - val_accuracy: 0.7038\n",
      "Epoch 5/150\n",
      "200/200 [==============================] - 5s 27ms/step - loss: 0.9729 - accuracy: 0.7186 - val_loss: 0.9466 - val_accuracy: 0.7394\n",
      "Epoch 6/150\n",
      "200/200 [==============================] - 5s 25ms/step - loss: 0.8727 - accuracy: 0.7536 - val_loss: 0.8648 - val_accuracy: 0.7550\n",
      "Epoch 7/150\n",
      "200/200 [==============================] - 5s 25ms/step - loss: 0.7897 - accuracy: 0.7780 - val_loss: 0.7994 - val_accuracy: 0.7681\n",
      "Epoch 8/150\n",
      "200/200 [==============================] - 5s 25ms/step - loss: 0.7195 - accuracy: 0.7992 - val_loss: 0.7466 - val_accuracy: 0.7781\n",
      "Epoch 9/150\n",
      "200/200 [==============================] - 5s 25ms/step - loss: 0.6613 - accuracy: 0.8167 - val_loss: 0.7032 - val_accuracy: 0.7850\n",
      "Epoch 10/150\n",
      "200/200 [==============================] - 5s 25ms/step - loss: 0.6105 - accuracy: 0.8330 - val_loss: 0.6669 - val_accuracy: 0.7931\n",
      "Epoch 11/150\n",
      "200/200 [==============================] - 5s 25ms/step - loss: 0.5671 - accuracy: 0.8462 - val_loss: 0.6376 - val_accuracy: 0.7994\n",
      "Epoch 12/150\n",
      "200/200 [==============================] - 5s 25ms/step - loss: 0.5290 - accuracy: 0.8575 - val_loss: 0.6118 - val_accuracy: 0.8012\n",
      "Epoch 13/150\n",
      "200/200 [==============================] - 5s 25ms/step - loss: 0.4957 - accuracy: 0.8686 - val_loss: 0.5905 - val_accuracy: 0.8037\n",
      "Epoch 14/150\n",
      "200/200 [==============================] - 5s 25ms/step - loss: 0.4644 - accuracy: 0.8753 - val_loss: 0.5723 - val_accuracy: 0.8075\n",
      "Epoch 15/150\n",
      "200/200 [==============================] - 5s 25ms/step - loss: 0.4367 - accuracy: 0.8850 - val_loss: 0.5560 - val_accuracy: 0.8100\n",
      "Epoch 16/150\n",
      "200/200 [==============================] - 5s 27ms/step - loss: 0.4112 - accuracy: 0.8956 - val_loss: 0.5415 - val_accuracy: 0.8200\n",
      "Epoch 17/150\n",
      "200/200 [==============================] - 5s 27ms/step - loss: 0.3875 - accuracy: 0.9013 - val_loss: 0.5293 - val_accuracy: 0.8231\n",
      "Epoch 18/150\n",
      "200/200 [==============================] - 5s 26ms/step - loss: 0.3655 - accuracy: 0.9091 - val_loss: 0.5190 - val_accuracy: 0.8263\n",
      "Epoch 19/150\n",
      "200/200 [==============================] - 5s 25ms/step - loss: 0.3462 - accuracy: 0.9133 - val_loss: 0.5104 - val_accuracy: 0.8300\n",
      "Epoch 20/150\n",
      "200/200 [==============================] - 5s 25ms/step - loss: 0.3266 - accuracy: 0.9206 - val_loss: 0.5027 - val_accuracy: 0.8325\n",
      "Epoch 21/150\n",
      "200/200 [==============================] - 5s 25ms/step - loss: 0.3087 - accuracy: 0.9253 - val_loss: 0.4951 - val_accuracy: 0.8344\n",
      "Epoch 22/150\n",
      "200/200 [==============================] - 5s 25ms/step - loss: 0.2933 - accuracy: 0.9292 - val_loss: 0.4892 - val_accuracy: 0.8369\n",
      "Epoch 23/150\n",
      "200/200 [==============================] - 5s 25ms/step - loss: 0.2779 - accuracy: 0.9331 - val_loss: 0.4845 - val_accuracy: 0.8394\n",
      "Epoch 24/150\n",
      "200/200 [==============================] - 5s 25ms/step - loss: 0.2637 - accuracy: 0.9380 - val_loss: 0.4810 - val_accuracy: 0.8369\n",
      "Epoch 25/150\n",
      "200/200 [==============================] - 5s 25ms/step - loss: 0.2493 - accuracy: 0.9422 - val_loss: 0.4773 - val_accuracy: 0.8388\n",
      "Epoch 26/150\n",
      "200/200 [==============================] - 5s 25ms/step - loss: 0.2374 - accuracy: 0.9453 - val_loss: 0.4746 - val_accuracy: 0.8375\n",
      "Epoch 27/150\n",
      "200/200 [==============================] - 5s 25ms/step - loss: 0.2252 - accuracy: 0.9511 - val_loss: 0.4727 - val_accuracy: 0.8369\n",
      "Epoch 28/150\n",
      "200/200 [==============================] - 5s 25ms/step - loss: 0.2142 - accuracy: 0.9500 - val_loss: 0.4709 - val_accuracy: 0.8369\n",
      "Epoch 29/150\n",
      "200/200 [==============================] - 5s 25ms/step - loss: 0.2033 - accuracy: 0.9547 - val_loss: 0.4708 - val_accuracy: 0.8381\n",
      "Epoch 30/150\n",
      "200/200 [==============================] - 5s 25ms/step - loss: 0.1925 - accuracy: 0.9566 - val_loss: 0.4703 - val_accuracy: 0.8363\n",
      "Epoch 31/150\n",
      "200/200 [==============================] - 5s 25ms/step - loss: 0.1824 - accuracy: 0.9608 - val_loss: 0.4711 - val_accuracy: 0.8381\n",
      "Epoch 32/150\n",
      "200/200 [==============================] - 5s 25ms/step - loss: 0.1739 - accuracy: 0.9633 - val_loss: 0.4715 - val_accuracy: 0.8381\n",
      "Epoch 33/150\n",
      "200/200 [==============================] - 5s 25ms/step - loss: 0.1647 - accuracy: 0.9642 - val_loss: 0.4731 - val_accuracy: 0.8381\n",
      "Epoch 34/150\n",
      "200/200 [==============================] - 5s 24ms/step - loss: 0.1573 - accuracy: 0.9669 - val_loss: 0.4746 - val_accuracy: 0.8375\n",
      "Epoch 35/150\n",
      "200/200 [==============================] - 5s 25ms/step - loss: 0.1481 - accuracy: 0.9695 - val_loss: 0.4765 - val_accuracy: 0.8363\n",
      "Best epoch: 23\n"
     ]
    }
   ],
   "source": [
    "# Stop epochs if validation loss is increasing\n",
    "earlystopping_callback = tf.keras.callbacks.EarlyStopping(monitor='val_loss', patience=5)\n",
    "\n",
    "# Train the model with the optimal hyperparameters obtained from the tuner search above\n",
    "model = tuner.hypermodel.build(best_hps)\n",
    "history = model.fit(\n",
    "    train_ds,\n",
    "    validation_data=val_ds,\n",
    "    epochs=150,\n",
    "    callbacks=[tensorboard_callback, earlystopping_callback]\n",
    "    )\n",
    "\n",
    "val_acc_per_epoch = history.history['val_accuracy']\n",
    "best_epoch = val_acc_per_epoch.index(max(val_acc_per_epoch)) + 1\n",
    "print('Best epoch: %d' % (best_epoch,))"
   ]
  },
  {
   "cell_type": "code",
   "execution_count": 40,
   "metadata": {},
   "outputs": [
    {
     "name": "stdout",
     "output_type": "stream",
     "text": [
      "Epoch 1/23\n",
      "200/200 [==============================] - 7s 32ms/step - loss: 1.3729 - accuracy: 0.3595 - val_loss: 1.3534 - val_accuracy: 0.4725\n",
      "Epoch 2/23\n",
      "200/200 [==============================] - 5s 26ms/step - loss: 1.3159 - accuracy: 0.5161 - val_loss: 1.2758 - val_accuracy: 0.5900\n",
      "Epoch 3/23\n",
      "200/200 [==============================] - 5s 26ms/step - loss: 1.2131 - accuracy: 0.6002 - val_loss: 1.1628 - val_accuracy: 0.6650\n",
      "Epoch 4/23\n",
      "200/200 [==============================] - 5s 26ms/step - loss: 1.0913 - accuracy: 0.6678 - val_loss: 1.0486 - val_accuracy: 0.7019\n",
      "Epoch 5/23\n",
      "200/200 [==============================] - 5s 27ms/step - loss: 0.9743 - accuracy: 0.7220 - val_loss: 0.9486 - val_accuracy: 0.7369\n",
      "Epoch 6/23\n",
      "200/200 [==============================] - 5s 27ms/step - loss: 0.8749 - accuracy: 0.7523 - val_loss: 0.8669 - val_accuracy: 0.7588\n",
      "Epoch 7/23\n",
      "200/200 [==============================] - 5s 27ms/step - loss: 0.7914 - accuracy: 0.7794 - val_loss: 0.8008 - val_accuracy: 0.7681\n",
      "Epoch 8/23\n",
      "200/200 [==============================] - 5s 27ms/step - loss: 0.7221 - accuracy: 0.7978 - val_loss: 0.7481 - val_accuracy: 0.7800\n",
      "Epoch 9/23\n",
      "200/200 [==============================] - 5s 26ms/step - loss: 0.6633 - accuracy: 0.8152 - val_loss: 0.7043 - val_accuracy: 0.7856\n",
      "Epoch 10/23\n",
      "200/200 [==============================] - 5s 27ms/step - loss: 0.6124 - accuracy: 0.8314 - val_loss: 0.6688 - val_accuracy: 0.7919\n",
      "Epoch 11/23\n",
      "200/200 [==============================] - 5s 27ms/step - loss: 0.5695 - accuracy: 0.8434 - val_loss: 0.6389 - val_accuracy: 0.7962\n",
      "Epoch 12/23\n",
      "200/200 [==============================] - 5s 27ms/step - loss: 0.5304 - accuracy: 0.8562 - val_loss: 0.6130 - val_accuracy: 0.8012\n",
      "Epoch 13/23\n",
      "200/200 [==============================] - 5s 27ms/step - loss: 0.4961 - accuracy: 0.8661 - val_loss: 0.5904 - val_accuracy: 0.8050\n",
      "Epoch 14/23\n",
      "200/200 [==============================] - 5s 27ms/step - loss: 0.4666 - accuracy: 0.8755 - val_loss: 0.5725 - val_accuracy: 0.8075\n",
      "Epoch 15/23\n",
      "200/200 [==============================] - 5s 27ms/step - loss: 0.4381 - accuracy: 0.8864 - val_loss: 0.5557 - val_accuracy: 0.8131\n",
      "Epoch 16/23\n",
      "200/200 [==============================] - 5s 27ms/step - loss: 0.4129 - accuracy: 0.8916 - val_loss: 0.5420 - val_accuracy: 0.8200\n",
      "Epoch 17/23\n",
      "200/200 [==============================] - 5s 26ms/step - loss: 0.3888 - accuracy: 0.9017 - val_loss: 0.5296 - val_accuracy: 0.8200\n",
      "Epoch 18/23\n",
      "200/200 [==============================] - 5s 26ms/step - loss: 0.3670 - accuracy: 0.9064 - val_loss: 0.5189 - val_accuracy: 0.8244\n",
      "Epoch 19/23\n",
      "200/200 [==============================] - 5s 26ms/step - loss: 0.3466 - accuracy: 0.9134 - val_loss: 0.5094 - val_accuracy: 0.8294\n",
      "Epoch 20/23\n",
      "200/200 [==============================] - 5s 26ms/step - loss: 0.3285 - accuracy: 0.9186 - val_loss: 0.5021 - val_accuracy: 0.8331\n",
      "Epoch 21/23\n",
      "200/200 [==============================] - 5s 25ms/step - loss: 0.3109 - accuracy: 0.9241 - val_loss: 0.4945 - val_accuracy: 0.8325\n",
      "Epoch 22/23\n",
      "200/200 [==============================] - 5s 26ms/step - loss: 0.2940 - accuracy: 0.9302 - val_loss: 0.4889 - val_accuracy: 0.8375\n",
      "Epoch 23/23\n",
      "200/200 [==============================] - 5s 26ms/step - loss: 0.2793 - accuracy: 0.9337 - val_loss: 0.4836 - val_accuracy: 0.8388\n"
     ]
    }
   ],
   "source": [
    "# Reinstantiate and retrain the model with the\n",
    "# optimal hyperparameters and optimal number of epochs determined above\n",
    "hypermodel = tuner.hypermodel.build(best_hps)\n",
    "history = hypermodel.fit(\n",
    "    train_ds,\n",
    "    validation_data=val_ds,\n",
    "    epochs=best_epoch,\n",
    "    callbacks=[tensorboard_callback]\n",
    "    )"
   ]
  },
  {
   "cell_type": "code",
   "execution_count": null,
   "metadata": {},
   "outputs": [],
   "source": []
  },
  {
   "cell_type": "markdown",
   "metadata": {},
   "source": [
    "## Evaluate the Model"
   ]
  },
  {
   "cell_type": "code",
   "execution_count": 41,
   "metadata": {},
   "outputs": [
    {
     "name": "stdout",
     "output_type": "stream",
     "text": [
      "250/250 [==============================] - 1s 3ms/step - loss: 0.5454 - accuracy: 0.8011\n",
      "Loss:  0.5454238653182983\n",
      "Accuracy:  0.8011249899864197\n",
      "dict_keys(['loss', 'accuracy', 'val_loss', 'val_accuracy'])\n"
     ]
    },
    {
     "data": {
      "text/plain": [
       "<matplotlib.lines.Line2D at 0x1ba6c29a3a0>"
      ]
     },
     "execution_count": 41,
     "metadata": {},
     "output_type": "execute_result"
    },
    {
     "data": {
      "image/png": "[encoded data removed]",
      "text/plain": [
       "<Figure size 432x288 with 1 Axes>"
      ]
     },
     "metadata": {
      "needs_background": "light"
     },
     "output_type": "display_data"
    }
   ],
   "source": [
    "loss, accuracy = hypermodel.evaluate(test_ds)\n",
    "print(\"Loss: \", loss)\n",
    "print(\"Accuracy: \", accuracy)\n",
    "\n",
    "history_dict = history.history\n",
    "print( history_dict.keys() )\n",
    "\n",
    "plt.plot( 'accuracy', 'b-', data=history.history )\n",
    "plt.plot( 'val_accuracy', 'g:', data=history.history )\n",
    "# plt.plot( [accuracy]*len(history.history['binary_accuracy']), 'r--', data=history.history )\n",
    "y_axis_min_val = max( 0, round(min(accuracy, min(history.history['val_accuracy']), min(history.history['accuracy']) )-0.1, 1) )\n",
    "_ = plt.ylim( y_axis_min_val, 1.0)\n",
    "plt.axhline( accuracy, color='r', linestyle=':')"
   ]
  },
  {
   "cell_type": "code",
   "execution_count": 43,
   "metadata": {
    "tags": []
   },
   "outputs": [
    {
     "data": {
      "text/plain": [
       "Reusing TensorBoard on port 6006 (pid 23932), started 2 days, 3:58:36 ago. (Use '!kill 23932' to kill it.)"
      ]
     },
     "metadata": {},
     "output_type": "display_data"
    },
    {
     "data": {
      "text/html": [
       "\n",
       "      <iframe id=\"tensorboard-frame-f152a63afc15d3e8\" width=\"100%\" height=\"800\" frameborder=\"0\">\n",
       "      </iframe>\n",
       "      <script>\n",
       "        (function() {\n",
       "          const frame = document.getElementById(\"tensorboard-frame-f152a63afc15d3e8\");\n",
       "          const url = new URL(\"/\", window.location);\n",
       "          const port = 6006;\n",
       "          if (port) {\n",
       "            url.port = port;\n",
       "          }\n",
       "          frame.src = url;\n",
       "        })();\n",
       "      </script>\n",
       "    "
      ],
      "text/plain": [
       "<IPython.core.display.HTML object>"
      ]
     },
     "metadata": {},
     "output_type": "display_data"
    }
   ],
   "source": [
    "%tensorboard --logdir logs"
   ]
  },
  {
   "cell_type": "markdown",
   "metadata": {},
   "source": [
    "## Export the Model"
   ]
  },
  {
   "cell_type": "code",
   "execution_count": 44,
   "metadata": {},
   "outputs": [
    {
     "name": "stdout",
     "output_type": "stream",
     "text": [
      "Model: \"sequential_4\"\n",
      "_________________________________________________________________\n",
      "Layer (type)                 Output Shape              Param #   \n",
      "=================================================================\n",
      "text_vectorization (TextVect (None, 350)               0         \n",
      "_________________________________________________________________\n",
      "sequential_3 (Sequential)    (None, 4)                 960324    \n",
      "_________________________________________________________________\n",
      "softmax (Softmax)            (None, 4)                 0         \n",
      "=================================================================\n",
      "Total params: 960,324\n",
      "Trainable params: 960,324\n",
      "Non-trainable params: 0\n",
      "_________________________________________________________________\n"
     ]
    }
   ],
   "source": [
    "# Wrap the trained model to permit it to be used directly in input strings (vs. vectors)\n",
    "# and then apply an activation layer to yield a floating result between 0 and 1\n",
    "export_model = tf.keras.Sequential([\n",
    "    vectorize_layer,\n",
    "    hypermodel,\n",
    "    layers.Softmax()\n",
    "    ])\n",
    "\n",
    "export_model.summary()"
   ]
  },
  {
   "cell_type": "code",
   "execution_count": 45,
   "metadata": {},
   "outputs": [],
   "source": [
    "export_model.compile(\n",
    "    optimizer=\"adam\",\n",
    "    loss=losses.SparseCategoricalCrossentropy(from_logits=False),\n",
    "    metrics=['accuracy']\n",
    "    )"
   ]
  },
  {
   "cell_type": "code",
   "execution_count": 46,
   "metadata": {},
   "outputs": [
    {
     "name": "stdout",
     "output_type": "stream",
     "text": [
      "250/250 [==============================] - 4s 13ms/step - loss: 0.5454 - accuracy: 0.8011\n",
      "0.8011249899864197\n"
     ]
    }
   ],
   "source": [
    "# Test it with `raw_test_ds`, which yields raw strings\n",
    "loss, accuracy = export_model.evaluate(raw_test_ds)\n",
    "print(accuracy)"
   ]
  },
  {
   "cell_type": "code",
   "execution_count": 48,
   "metadata": {},
   "outputs": [
    {
     "data": {
      "text/html": [
       "<div>\n",
       "<style scoped>\n",
       "    .dataframe tbody tr th:only-of-type {\n",
       "        vertical-align: middle;\n",
       "    }\n",
       "\n",
       "    .dataframe tbody tr th {\n",
       "        vertical-align: top;\n",
       "    }\n",
       "\n",
       "    .dataframe thead th {\n",
       "        text-align: right;\n",
       "    }\n",
       "</style>\n",
       "<table border=\"1\" class=\"dataframe\">\n",
       "  <thead>\n",
       "    <tr style=\"text-align: right;\">\n",
       "      <th></th>\n",
       "      <th>Post</th>\n",
       "      <th>True Label</th>\n",
       "      <th>True Class</th>\n",
       "      <th>Predicted Label</th>\n",
       "      <th>Predicted Class</th>\n",
       "      <th>c0 (csharp)</th>\n",
       "      <th>c1 (java)</th>\n",
       "      <th>c2 (javascript)</th>\n",
       "      <th>c3 (python)</th>\n",
       "      <th>max/mean</th>\n",
       "      <th>Prediction Correct</th>\n",
       "    </tr>\n",
       "  </thead>\n",
       "  <tbody>\n",
       "    <tr>\n",
       "      <th>16</th>\n",
       "      <td>\"running total instead of individual total? i'...</td>\n",
       "      <td>1</td>\n",
       "      <td>java</td>\n",
       "      <td>1</td>\n",
       "      <td>java</td>\n",
       "      <td>0.000</td>\n",
       "      <td>1.000</td>\n",
       "      <td>0.000</td>\n",
       "      <td>0.000</td>\n",
       "      <td>4.000</td>\n",
       "      <td>True</td>\n",
       "    </tr>\n",
       "    <tr>\n",
       "      <th>12</th>\n",
       "      <td>getting blank.lang.verifyerror: class waffle.a...</td>\n",
       "      <td>1</td>\n",
       "      <td>java</td>\n",
       "      <td>1</td>\n",
       "      <td>java</td>\n",
       "      <td>0.000</td>\n",
       "      <td>1.000</td>\n",
       "      <td>0.000</td>\n",
       "      <td>0.000</td>\n",
       "      <td>3.999</td>\n",
       "      <td>True</td>\n",
       "    </tr>\n",
       "    <tr>\n",
       "      <th>31</th>\n",
       "      <td>\"just some thing i am working on that is broke...</td>\n",
       "      <td>1</td>\n",
       "      <td>java</td>\n",
       "      <td>1</td>\n",
       "      <td>java</td>\n",
       "      <td>0.000</td>\n",
       "      <td>1.000</td>\n",
       "      <td>0.000</td>\n",
       "      <td>0.000</td>\n",
       "      <td>3.999</td>\n",
       "      <td>True</td>\n",
       "    </tr>\n",
       "    <tr>\n",
       "      <th>25</th>\n",
       "      <td>\"save large list of ints in memory for fast ac...</td>\n",
       "      <td>0</td>\n",
       "      <td>csharp</td>\n",
       "      <td>0</td>\n",
       "      <td>csharp</td>\n",
       "      <td>1.000</td>\n",
       "      <td>0.000</td>\n",
       "      <td>0.000</td>\n",
       "      <td>0.000</td>\n",
       "      <td>3.999</td>\n",
       "      <td>True</td>\n",
       "    </tr>\n",
       "    <tr>\n",
       "      <th>26</th>\n",
       "      <td>\"blank file reader convert invalid literal i h...</td>\n",
       "      <td>3</td>\n",
       "      <td>python</td>\n",
       "      <td>3</td>\n",
       "      <td>python</td>\n",
       "      <td>0.000</td>\n",
       "      <td>0.000</td>\n",
       "      <td>0.000</td>\n",
       "      <td>1.000</td>\n",
       "      <td>3.999</td>\n",
       "      <td>True</td>\n",
       "    </tr>\n",
       "    <tr>\n",
       "      <th>23</th>\n",
       "      <td>\"how to create function x times i'm learning t...</td>\n",
       "      <td>2</td>\n",
       "      <td>javascript</td>\n",
       "      <td>2</td>\n",
       "      <td>javascript</td>\n",
       "      <td>0.000</td>\n",
       "      <td>0.000</td>\n",
       "      <td>0.999</td>\n",
       "      <td>0.000</td>\n",
       "      <td>3.998</td>\n",
       "      <td>True</td>\n",
       "    </tr>\n",
       "    <tr>\n",
       "      <th>22</th>\n",
       "      <td>\"why doesn't the else shown in code not work i...</td>\n",
       "      <td>3</td>\n",
       "      <td>python</td>\n",
       "      <td>3</td>\n",
       "      <td>python</td>\n",
       "      <td>0.000</td>\n",
       "      <td>0.001</td>\n",
       "      <td>0.000</td>\n",
       "      <td>0.999</td>\n",
       "      <td>3.996</td>\n",
       "      <td>True</td>\n",
       "    </tr>\n",
       "    <tr>\n",
       "      <th>4</th>\n",
       "      <td>\"how to skip a variable value in eval i have d...</td>\n",
       "      <td>3</td>\n",
       "      <td>python</td>\n",
       "      <td>3</td>\n",
       "      <td>python</td>\n",
       "      <td>0.000</td>\n",
       "      <td>0.001</td>\n",
       "      <td>0.000</td>\n",
       "      <td>0.999</td>\n",
       "      <td>3.996</td>\n",
       "      <td>True</td>\n",
       "    </tr>\n",
       "    <tr>\n",
       "      <th>15</th>\n",
       "      <td>\"i keep getting the error list assignment inde...</td>\n",
       "      <td>3</td>\n",
       "      <td>python</td>\n",
       "      <td>3</td>\n",
       "      <td>python</td>\n",
       "      <td>0.000</td>\n",
       "      <td>0.001</td>\n",
       "      <td>0.000</td>\n",
       "      <td>0.999</td>\n",
       "      <td>3.995</td>\n",
       "      <td>True</td>\n",
       "    </tr>\n",
       "    <tr>\n",
       "      <th>5</th>\n",
       "      <td>\"beginner index out of range in blank this is ...</td>\n",
       "      <td>3</td>\n",
       "      <td>python</td>\n",
       "      <td>3</td>\n",
       "      <td>python</td>\n",
       "      <td>0.000</td>\n",
       "      <td>0.004</td>\n",
       "      <td>0.000</td>\n",
       "      <td>0.996</td>\n",
       "      <td>3.983</td>\n",
       "      <td>True</td>\n",
       "    </tr>\n",
       "    <tr>\n",
       "      <th>6</th>\n",
       "      <td>\"where is the keyboard specified the system.in...</td>\n",
       "      <td>1</td>\n",
       "      <td>java</td>\n",
       "      <td>1</td>\n",
       "      <td>java</td>\n",
       "      <td>0.008</td>\n",
       "      <td>0.992</td>\n",
       "      <td>0.000</td>\n",
       "      <td>0.000</td>\n",
       "      <td>3.969</td>\n",
       "      <td>True</td>\n",
       "    </tr>\n",
       "    <tr>\n",
       "      <th>3</th>\n",
       "      <td>\"parsing firewall rules in blank i am writing ...</td>\n",
       "      <td>3</td>\n",
       "      <td>python</td>\n",
       "      <td>3</td>\n",
       "      <td>python</td>\n",
       "      <td>0.014</td>\n",
       "      <td>0.009</td>\n",
       "      <td>0.001</td>\n",
       "      <td>0.977</td>\n",
       "      <td>3.907</td>\n",
       "      <td>True</td>\n",
       "    </tr>\n",
       "    <tr>\n",
       "      <th>2</th>\n",
       "      <td>\"why import specific sub-packages in blank whe...</td>\n",
       "      <td>3</td>\n",
       "      <td>python</td>\n",
       "      <td>3</td>\n",
       "      <td>python</td>\n",
       "      <td>0.001</td>\n",
       "      <td>0.034</td>\n",
       "      <td>0.001</td>\n",
       "      <td>0.964</td>\n",
       "      <td>3.858</td>\n",
       "      <td>True</td>\n",
       "    </tr>\n",
       "    <tr>\n",
       "      <th>20</th>\n",
       "      <td>\"why is apache orc recordreader.searchargument...</td>\n",
       "      <td>1</td>\n",
       "      <td>java</td>\n",
       "      <td>1</td>\n",
       "      <td>java</td>\n",
       "      <td>0.063</td>\n",
       "      <td>0.934</td>\n",
       "      <td>0.000</td>\n",
       "      <td>0.003</td>\n",
       "      <td>3.736</td>\n",
       "      <td>True</td>\n",
       "    </tr>\n",
       "    <tr>\n",
       "      <th>30</th>\n",
       "      <td>\"loading assemblies in blank application at ru...</td>\n",
       "      <td>0</td>\n",
       "      <td>csharp</td>\n",
       "      <td>0</td>\n",
       "      <td>csharp</td>\n",
       "      <td>0.895</td>\n",
       "      <td>0.088</td>\n",
       "      <td>0.016</td>\n",
       "      <td>0.001</td>\n",
       "      <td>3.578</td>\n",
       "      <td>True</td>\n",
       "    </tr>\n",
       "    <tr>\n",
       "      <th>8</th>\n",
       "      <td>\"what is the difference between two below defi...</td>\n",
       "      <td>3</td>\n",
       "      <td>python</td>\n",
       "      <td>3</td>\n",
       "      <td>python</td>\n",
       "      <td>0.027</td>\n",
       "      <td>0.061</td>\n",
       "      <td>0.046</td>\n",
       "      <td>0.867</td>\n",
       "      <td>3.469</td>\n",
       "      <td>True</td>\n",
       "    </tr>\n",
       "    <tr>\n",
       "      <th>29</th>\n",
       "      <td>\"obtain key of dictionary using object.keys() ...</td>\n",
       "      <td>2</td>\n",
       "      <td>javascript</td>\n",
       "      <td>2</td>\n",
       "      <td>javascript</td>\n",
       "      <td>0.105</td>\n",
       "      <td>0.019</td>\n",
       "      <td>0.864</td>\n",
       "      <td>0.012</td>\n",
       "      <td>3.457</td>\n",
       "      <td>True</td>\n",
       "    </tr>\n",
       "    <tr>\n",
       "      <th>10</th>\n",
       "      <td>\"query on dictionary in blank [{\"\"sku\"\":43900,...</td>\n",
       "      <td>3</td>\n",
       "      <td>python</td>\n",
       "      <td>3</td>\n",
       "      <td>python</td>\n",
       "      <td>0.047</td>\n",
       "      <td>0.033</td>\n",
       "      <td>0.062</td>\n",
       "      <td>0.858</td>\n",
       "      <td>3.433</td>\n",
       "      <td>True</td>\n",
       "    </tr>\n",
       "    <tr>\n",
       "      <th>9</th>\n",
       "      <td>\"random serial generating regex separator the ...</td>\n",
       "      <td>2</td>\n",
       "      <td>javascript</td>\n",
       "      <td>2</td>\n",
       "      <td>javascript</td>\n",
       "      <td>0.107</td>\n",
       "      <td>0.033</td>\n",
       "      <td>0.833</td>\n",
       "      <td>0.027</td>\n",
       "      <td>3.331</td>\n",
       "      <td>True</td>\n",
       "    </tr>\n",
       "    <tr>\n",
       "      <th>1</th>\n",
       "      <td>\"why is second &lt;input&gt; value not set in local ...</td>\n",
       "      <td>2</td>\n",
       "      <td>javascript</td>\n",
       "      <td>2</td>\n",
       "      <td>javascript</td>\n",
       "      <td>0.056</td>\n",
       "      <td>0.006</td>\n",
       "      <td>0.826</td>\n",
       "      <td>0.112</td>\n",
       "      <td>3.303</td>\n",
       "      <td>True</td>\n",
       "    </tr>\n",
       "    <tr>\n",
       "      <th>21</th>\n",
       "      <td>\"use a variable in settimeout() to set the tim...</td>\n",
       "      <td>2</td>\n",
       "      <td>javascript</td>\n",
       "      <td>2</td>\n",
       "      <td>javascript</td>\n",
       "      <td>0.185</td>\n",
       "      <td>0.072</td>\n",
       "      <td>0.612</td>\n",
       "      <td>0.131</td>\n",
       "      <td>2.448</td>\n",
       "      <td>True</td>\n",
       "    </tr>\n",
       "    <tr>\n",
       "      <th>18</th>\n",
       "      <td>\"understanding basic for-each loops blank in b...</td>\n",
       "      <td>1</td>\n",
       "      <td>java</td>\n",
       "      <td>1</td>\n",
       "      <td>java</td>\n",
       "      <td>0.148</td>\n",
       "      <td>0.552</td>\n",
       "      <td>0.066</td>\n",
       "      <td>0.234</td>\n",
       "      <td>2.207</td>\n",
       "      <td>True</td>\n",
       "    </tr>\n",
       "    <tr>\n",
       "      <th>28</th>\n",
       "      <td>\"remove 2 connections httpwebrequest limitatio...</td>\n",
       "      <td>0</td>\n",
       "      <td>csharp</td>\n",
       "      <td>0</td>\n",
       "      <td>csharp</td>\n",
       "      <td>0.496</td>\n",
       "      <td>0.152</td>\n",
       "      <td>0.195</td>\n",
       "      <td>0.157</td>\n",
       "      <td>1.985</td>\n",
       "      <td>True</td>\n",
       "    </tr>\n",
       "    <tr>\n",
       "      <th>11</th>\n",
       "      <td>\"how can i append a text file to order the con...</td>\n",
       "      <td>3</td>\n",
       "      <td>python</td>\n",
       "      <td>3</td>\n",
       "      <td>python</td>\n",
       "      <td>0.152</td>\n",
       "      <td>0.252</td>\n",
       "      <td>0.168</td>\n",
       "      <td>0.428</td>\n",
       "      <td>1.713</td>\n",
       "      <td>True</td>\n",
       "    </tr>\n",
       "    <tr>\n",
       "      <th>13</th>\n",
       "      <td>\"files.write and files.readallbytes changes by...</td>\n",
       "      <td>1</td>\n",
       "      <td>java</td>\n",
       "      <td>1</td>\n",
       "      <td>java</td>\n",
       "      <td>0.283</td>\n",
       "      <td>0.401</td>\n",
       "      <td>0.125</td>\n",
       "      <td>0.191</td>\n",
       "      <td>1.603</td>\n",
       "      <td>True</td>\n",
       "    </tr>\n",
       "    <tr>\n",
       "      <th>19</th>\n",
       "      <td>\"how to deal with error handling in object lit...</td>\n",
       "      <td>2</td>\n",
       "      <td>javascript</td>\n",
       "      <td>2</td>\n",
       "      <td>javascript</td>\n",
       "      <td>0.209</td>\n",
       "      <td>0.146</td>\n",
       "      <td>0.382</td>\n",
       "      <td>0.263</td>\n",
       "      <td>1.528</td>\n",
       "      <td>True</td>\n",
       "    </tr>\n",
       "    <tr>\n",
       "      <th>0</th>\n",
       "      <td>\"player life is increasing per frame instead o...</td>\n",
       "      <td>0</td>\n",
       "      <td>csharp</td>\n",
       "      <td>1</td>\n",
       "      <td>java</td>\n",
       "      <td>0.058</td>\n",
       "      <td>0.942</td>\n",
       "      <td>0.000</td>\n",
       "      <td>0.000</td>\n",
       "      <td>3.768</td>\n",
       "      <td>False</td>\n",
       "    </tr>\n",
       "    <tr>\n",
       "      <th>14</th>\n",
       "      <td>blank changing a small part of the function th...</td>\n",
       "      <td>3</td>\n",
       "      <td>python</td>\n",
       "      <td>2</td>\n",
       "      <td>javascript</td>\n",
       "      <td>0.112</td>\n",
       "      <td>0.053</td>\n",
       "      <td>0.746</td>\n",
       "      <td>0.088</td>\n",
       "      <td>2.986</td>\n",
       "      <td>False</td>\n",
       "    </tr>\n",
       "    <tr>\n",
       "      <th>7</th>\n",
       "      <td>\"how to create an action from a lambda in csha...</td>\n",
       "      <td>0</td>\n",
       "      <td>csharp</td>\n",
       "      <td>2</td>\n",
       "      <td>javascript</td>\n",
       "      <td>0.416</td>\n",
       "      <td>0.059</td>\n",
       "      <td>0.477</td>\n",
       "      <td>0.048</td>\n",
       "      <td>1.908</td>\n",
       "      <td>False</td>\n",
       "    </tr>\n",
       "    <tr>\n",
       "      <th>27</th>\n",
       "      <td>\"sorting elements of a list how can i use .sor...</td>\n",
       "      <td>0</td>\n",
       "      <td>csharp</td>\n",
       "      <td>1</td>\n",
       "      <td>java</td>\n",
       "      <td>0.319</td>\n",
       "      <td>0.439</td>\n",
       "      <td>0.067</td>\n",
       "      <td>0.175</td>\n",
       "      <td>1.756</td>\n",
       "      <td>False</td>\n",
       "    </tr>\n",
       "    <tr>\n",
       "      <th>17</th>\n",
       "      <td>\"projecteuler q1 program unexpected result i w...</td>\n",
       "      <td>0</td>\n",
       "      <td>csharp</td>\n",
       "      <td>3</td>\n",
       "      <td>python</td>\n",
       "      <td>0.200</td>\n",
       "      <td>0.297</td>\n",
       "      <td>0.094</td>\n",
       "      <td>0.409</td>\n",
       "      <td>1.636</td>\n",
       "      <td>False</td>\n",
       "    </tr>\n",
       "    <tr>\n",
       "      <th>24</th>\n",
       "      <td>\"how to solve string was not recognized as a v...</td>\n",
       "      <td>0</td>\n",
       "      <td>csharp</td>\n",
       "      <td>1</td>\n",
       "      <td>java</td>\n",
       "      <td>0.367</td>\n",
       "      <td>0.405</td>\n",
       "      <td>0.125</td>\n",
       "      <td>0.103</td>\n",
       "      <td>1.622</td>\n",
       "      <td>False</td>\n",
       "    </tr>\n",
       "  </tbody>\n",
       "</table>\n",
       "</div>"
      ],
      "text/plain": [
       "                                                 Post  True Label  True Class  \\\n",
       "16  \"running total instead of individual total? i'...           1        java   \n",
       "12  getting blank.lang.verifyerror: class waffle.a...           1        java   \n",
       "31  \"just some thing i am working on that is broke...           1        java   \n",
       "25  \"save large list of ints in memory for fast ac...           0      csharp   \n",
       "26  \"blank file reader convert invalid literal i h...           3      python   \n",
       "23  \"how to create function x times i'm learning t...           2  javascript   \n",
       "22  \"why doesn't the else shown in code not work i...           3      python   \n",
       "4   \"how to skip a variable value in eval i have d...           3      python   \n",
       "15  \"i keep getting the error list assignment inde...           3      python   \n",
       "5   \"beginner index out of range in blank this is ...           3      python   \n",
       "6   \"where is the keyboard specified the system.in...           1        java   \n",
       "3   \"parsing firewall rules in blank i am writing ...           3      python   \n",
       "2   \"why import specific sub-packages in blank whe...           3      python   \n",
       "20  \"why is apache orc recordreader.searchargument...           1        java   \n",
       "30  \"loading assemblies in blank application at ru...           0      csharp   \n",
       "8   \"what is the difference between two below defi...           3      python   \n",
       "29  \"obtain key of dictionary using object.keys() ...           2  javascript   \n",
       "10  \"query on dictionary in blank [{\"\"sku\"\":43900,...           3      python   \n",
       "9   \"random serial generating regex separator the ...           2  javascript   \n",
       "1   \"why is second <input> value not set in local ...           2  javascript   \n",
       "21  \"use a variable in settimeout() to set the tim...           2  javascript   \n",
       "18  \"understanding basic for-each loops blank in b...           1        java   \n",
       "28  \"remove 2 connections httpwebrequest limitatio...           0      csharp   \n",
       "11  \"how can i append a text file to order the con...           3      python   \n",
       "13  \"files.write and files.readallbytes changes by...           1        java   \n",
       "19  \"how to deal with error handling in object lit...           2  javascript   \n",
       "0   \"player life is increasing per frame instead o...           0      csharp   \n",
       "14  blank changing a small part of the function th...           3      python   \n",
       "7   \"how to create an action from a lambda in csha...           0      csharp   \n",
       "27  \"sorting elements of a list how can i use .sor...           0      csharp   \n",
       "17  \"projecteuler q1 program unexpected result i w...           0      csharp   \n",
       "24  \"how to solve string was not recognized as a v...           0      csharp   \n",
       "\n",
       "    Predicted Label Predicted Class  c0 (csharp)  c1 (java)  c2 (javascript)  \\\n",
       "16                1            java        0.000      1.000            0.000   \n",
       "12                1            java        0.000      1.000            0.000   \n",
       "31                1            java        0.000      1.000            0.000   \n",
       "25                0          csharp        1.000      0.000            0.000   \n",
       "26                3          python        0.000      0.000            0.000   \n",
       "23                2      javascript        0.000      0.000            0.999   \n",
       "22                3          python        0.000      0.001            0.000   \n",
       "4                 3          python        0.000      0.001            0.000   \n",
       "15                3          python        0.000      0.001            0.000   \n",
       "5                 3          python        0.000      0.004            0.000   \n",
       "6                 1            java        0.008      0.992            0.000   \n",
       "3                 3          python        0.014      0.009            0.001   \n",
       "2                 3          python        0.001      0.034            0.001   \n",
       "20                1            java        0.063      0.934            0.000   \n",
       "30                0          csharp        0.895      0.088            0.016   \n",
       "8                 3          python        0.027      0.061            0.046   \n",
       "29                2      javascript        0.105      0.019            0.864   \n",
       "10                3          python        0.047      0.033            0.062   \n",
       "9                 2      javascript        0.107      0.033            0.833   \n",
       "1                 2      javascript        0.056      0.006            0.826   \n",
       "21                2      javascript        0.185      0.072            0.612   \n",
       "18                1            java        0.148      0.552            0.066   \n",
       "28                0          csharp        0.496      0.152            0.195   \n",
       "11                3          python        0.152      0.252            0.168   \n",
       "13                1            java        0.283      0.401            0.125   \n",
       "19                2      javascript        0.209      0.146            0.382   \n",
       "0                 1            java        0.058      0.942            0.000   \n",
       "14                2      javascript        0.112      0.053            0.746   \n",
       "7                 2      javascript        0.416      0.059            0.477   \n",
       "27                1            java        0.319      0.439            0.067   \n",
       "17                3          python        0.200      0.297            0.094   \n",
       "24                1            java        0.367      0.405            0.125   \n",
       "\n",
       "    c3 (python)  max/mean  Prediction Correct  \n",
       "16        0.000     4.000                True  \n",
       "12        0.000     3.999                True  \n",
       "31        0.000     3.999                True  \n",
       "25        0.000     3.999                True  \n",
       "26        1.000     3.999                True  \n",
       "23        0.000     3.998                True  \n",
       "22        0.999     3.996                True  \n",
       "4         0.999     3.996                True  \n",
       "15        0.999     3.995                True  \n",
       "5         0.996     3.983                True  \n",
       "6         0.000     3.969                True  \n",
       "3         0.977     3.907                True  \n",
       "2         0.964     3.858                True  \n",
       "20        0.003     3.736                True  \n",
       "30        0.001     3.578                True  \n",
       "8         0.867     3.469                True  \n",
       "29        0.012     3.457                True  \n",
       "10        0.858     3.433                True  \n",
       "9         0.027     3.331                True  \n",
       "1         0.112     3.303                True  \n",
       "21        0.131     2.448                True  \n",
       "18        0.234     2.207                True  \n",
       "28        0.157     1.985                True  \n",
       "11        0.428     1.713                True  \n",
       "13        0.191     1.603                True  \n",
       "19        0.263     1.528                True  \n",
       "0         0.000     3.768               False  \n",
       "14        0.088     2.986               False  \n",
       "7         0.048     1.908               False  \n",
       "27        0.175     1.756               False  \n",
       "17        0.409     1.636               False  \n",
       "24        0.103     1.622               False  "
      ]
     },
     "execution_count": 48,
     "metadata": {},
     "output_type": "execute_result"
    }
   ],
   "source": [
    "# Some test examples\n",
    "n_examples = 32\n",
    "examples_np = [ x for x in raw_test_ds.take(n_examples).as_numpy_iterator() ]\n",
    "examples = [ x[0][0].decode() for x in examples_np ]\n",
    "true_labels = [ x[1][0] for x in examples_np ]\n",
    "true_classes = [ raw_train_ds.class_names[label] for label in true_labels ]\n",
    "\n",
    "preds = export_model.predict(examples)\n",
    "pred_labels = list(np.argmax(preds, axis=1))\n",
    "pred_classes = [ raw_train_ds.class_names[label] for label in pred_labels ]\n",
    "r_df = pd.concat([\n",
    "        pd.DataFrame( {'Post': examples,\n",
    "                       'True Label': true_labels, 'True Class': true_classes,\n",
    "                       'Predicted Label': pred_labels, 'Predicted Class': pred_classes\n",
    "                      }),\n",
    "        pd.DataFrame( preds, columns=['c0 (csharp)', 'c1 (java)', 'c2 (javascript)', 'c3 (python)'] ),\n",
    "        pd.DataFrame( np.max(preds, axis=1) / np.mean(preds, axis=1), columns=['max/mean'] )\n",
    "        ], axis=1 )\n",
    "r_df['Prediction Correct'] = r_df['Predicted Label'] == r_df['True Label']\n",
    "r_df = r_df[['Post', 'True Label', 'True Class', 'Predicted Label',\n",
    "       'Predicted Class', 'c0 (csharp)', 'c1 (java)', 'c2 (javascript)',\n",
    "       'c3 (python)', 'max/mean', 'Prediction Correct']]\n",
    "r_df.sort_values(by=['Prediction Correct', 'max/mean'], ascending=[False, False], inplace=True)\n",
    "r_df"
   ]
  },
  {
   "cell_type": "code",
   "execution_count": null,
   "metadata": {},
   "outputs": [],
   "source": []
  },
  {
   "cell_type": "markdown",
   "metadata": {},
   "source": [
    "## Retrieve the Trained Word Embeddings and Save them to Disk"
   ]
  },
  {
   "cell_type": "code",
   "execution_count": null,
   "metadata": {},
   "outputs": [],
   "source": [
    "# weights = model.get_layer('embedding').get_weights()[0]\n",
    "# vocab = vectorize_layer.get_vocabulary()\n",
    "\n",
    "# with io.open('./data/vectors.tsv', 'w', encoding='utf-8') as out_v:\n",
    "#     with io.open('./data/metadata.tsv', 'w', encoding='utf-8') as out_m:\n",
    "#         for index, word in enumerate(vocab):\n",
    "#             if index == 0:\n",
    "#                 continue    # skip 0, it's padding\n",
    "                \n",
    "#             vec = weights[index]\n",
    "#             out_v.write( '\\t'.join( [ str(x) for x in vec ]) + '\\n' )\n",
    "#             out_m.write( word + '\\n' )\n"
   ]
  },
  {
   "cell_type": "markdown",
   "metadata": {},
   "source": [
    "## Visualize the Embeddings\n",
    "* Tensorflow Embedding Projector: http://projector.tensorflow.org/\n",
    "* Click on \"Load data\".\n",
    "* Upload the two files you created above: vecs.tsv and meta.tsv."
   ]
  },
  {
   "cell_type": "code",
   "execution_count": null,
   "metadata": {},
   "outputs": [],
   "source": []
  },
  {
   "cell_type": "code",
   "execution_count": null,
   "metadata": {},
   "outputs": [],
   "source": []
  }
 ],
 "metadata": {
  "interpreter": {
   "hash": "a32e172698e50824da0c33bd5d955f0bc05a5b3df854aad51c6c7dfa51d03fde"
  },
  "kernelspec": {
   "display_name": "Python [conda env:py38]",
   "language": "python",
   "name": "conda-env-py38-py"
  },
  "language_info": {
   "codemirror_mode": {
    "name": "ipython",
    "version": 3
   },
   "file_extension": ".py",
   "mimetype": "text/x-python",
   "name": "python",
   "nbconvert_exporter": "python",
   "pygments_lexer": "ipython3",
   "version": "3.8.11"
  }
 },
 "nbformat": 4,
 "nbformat_minor": 4
}

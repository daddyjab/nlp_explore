{
 "cells": [
  {
   "cell_type": "markdown",
   "metadata": {},
   "source": [
    "# Tensorflow: Basic Text Classification - Multiclass Label\n",
    "* Reference: https://www.tensorflow.org/tutorials/keras/text_classification#exercise_multi-class_classification_on_stack_overflow_questions"
   ]
  },
  {
   "cell_type": "markdown",
   "metadata": {},
   "source": [
    "## Setup"
   ]
  },
  {
   "cell_type": "code",
   "execution_count": 265,
   "metadata": {},
   "outputs": [],
   "source": [
    "import io, os, re, shutil\n",
    "import string\n",
    "import matplotlib.pyplot as plt\n",
    "import datetime as dt\n",
    "import numpy as np\n",
    "\n",
    "import pandas as pd\n",
    "pd.options.display.float_format = '{:,.3f}'.format\n",
    "pd.options.display.max_rows = 100\n",
    "pd.options.display.max_columns = 300\n",
    "\n",
    "import tensorflow as tf\n",
    "from tensorflow.keras import layers, losses\n",
    "\n",
    "%load_ext tensorboard"
   ]
  },
  {
   "cell_type": "markdown",
   "metadata": {
    "tags": []
   },
   "source": [
    "## Download the Stack Overflow Dataset"
   ]
  },
  {
   "cell_type": "code",
   "execution_count": 5,
   "metadata": {},
   "outputs": [],
   "source": [
    "# Download the dataset to be used to the location CACHE_DIR/DATASET_SUBDIR\n",
    "CACHE_DIR = '.\\\\data'\n",
    "DATASET_URL = \"http://storage.googleapis.com/download.tensorflow.org/data/stack_overflow_16k.tar.gz\"\n",
    "DATASET_SUBDIR = 'stackoverflowdb'\n",
    "DATASET_ZIPFILE = 'stack_overflow_16k.tar.gz'"
   ]
  },
  {
   "cell_type": "code",
   "execution_count": 3,
   "metadata": {},
   "outputs": [
    {
     "name": "stdout",
     "output_type": "stream",
     "text": [
      "Downloading data from http://storage.googleapis.com/download.tensorflow.org/data/stack_overflow_16k.tar.gz\n",
      "6053888/6053168 [==============================] - 0s 0us/step\n",
      "6062080/6053168 [==============================] - 0s 0us/step\n"
     ]
    }
   ],
   "source": [
    "dataset = tf.keras.utils.get_file(\n",
    "            DATASET_ZIPFILE, DATASET_URL,\n",
    "            untar=True, cache_dir=CACHE_DIR, cache_subdir=DATASET_SUBDIR)"
   ]
  },
  {
   "cell_type": "code",
   "execution_count": 7,
   "metadata": {},
   "outputs": [
    {
     "name": "stdout",
     "output_type": "stream",
     "text": [
      ".\\data\\stackoverflowdb\n"
     ]
    },
    {
     "data": {
      "text/plain": [
       "['README.md', 'stack_overflow_16k.tar.gz', 'test', 'train']"
      ]
     },
     "execution_count": 7,
     "metadata": {},
     "output_type": "execute_result"
    }
   ],
   "source": [
    "dataset_dir = os.path.join( CACHE_DIR, DATASET_SUBDIR )\n",
    "print(dataset_dir)\n",
    "os.listdir(dataset_dir)"
   ]
  },
  {
   "cell_type": "code",
   "execution_count": 9,
   "metadata": {},
   "outputs": [
    {
     "name": "stdout",
     "output_type": "stream",
     "text": [
      ".\\data\\stackoverflowdb\\train\n"
     ]
    },
    {
     "data": {
      "text/plain": [
       "['csharp', 'java', 'javascript', 'python']"
      ]
     },
     "execution_count": 9,
     "metadata": {},
     "output_type": "execute_result"
    }
   ],
   "source": [
    "# Get the directory name of the training data\n",
    "train_dir = os.path.join(dataset_dir, 'train')\n",
    "print(train_dir)\n",
    "os.listdir(train_dir)"
   ]
  },
  {
   "cell_type": "code",
   "execution_count": 10,
   "metadata": {},
   "outputs": [
    {
     "name": "stdout",
     "output_type": "stream",
     "text": [
      ".\\data\\stackoverflowdb\\test\n"
     ]
    },
    {
     "data": {
      "text/plain": [
       "['csharp', 'java', 'javascript', 'python']"
      ]
     },
     "execution_count": 10,
     "metadata": {},
     "output_type": "execute_result"
    }
   ],
   "source": [
    "test_dir = os.path.join(dataset_dir, 'test')\n",
    "print(test_dir)\n",
    "os.listdir(test_dir)"
   ]
  },
  {
   "cell_type": "code",
   "execution_count": 7,
   "metadata": {},
   "outputs": [],
   "source": [
    "# # Remove directory containing unsupervised examples\n",
    "# remove_dir = os.path.join(train_dir, 'unsup')\n",
    "# shutil.rmtree(remove_dir)"
   ]
  },
  {
   "cell_type": "code",
   "execution_count": 199,
   "metadata": {},
   "outputs": [
    {
     "name": "stdout",
     "output_type": "stream",
     "text": [
      "Found 8000 files belonging to 4 classes.\n",
      "Using 6400 files for training.\n",
      "Found 8000 files belonging to 4 classes.\n",
      "Using 1600 files for validation.\n"
     ]
    }
   ],
   "source": [
    "batch_size = 32\n",
    "seed = 42\n",
    "raw_train_ds = tf.keras.preprocessing.text_dataset_from_directory(\n",
    "            train_dir, batch_size=batch_size,\n",
    "            validation_split=0.2, subset='training',\n",
    "            seed=seed)\n",
    "\n",
    "raw_val_ds = tf.keras.preprocessing.text_dataset_from_directory(\n",
    "            train_dir, batch_size=batch_size,\n",
    "            validation_split=0.2, subset='validation',\n",
    "            seed=seed)"
   ]
  },
  {
   "cell_type": "code",
   "execution_count": 200,
   "metadata": {},
   "outputs": [
    {
     "name": "stdout",
     "output_type": "stream",
     "text": [
      "Found 8000 files belonging to 4 classes.\n"
     ]
    }
   ],
   "source": [
    "raw_test_ds = tf.keras.preprocessing.text_dataset_from_directory(\n",
    "            test_dir, batch_size=batch_size)"
   ]
  },
  {
   "cell_type": "code",
   "execution_count": 201,
   "metadata": {},
   "outputs": [
    {
     "name": "stdout",
     "output_type": "stream",
     "text": [
      "Label: 0 => Class: csharp\n",
      "Label: 1 => Class: java\n",
      "Label: 2 => Class: javascript\n",
      "Label: 3 => Class: python\n"
     ]
    }
   ],
   "source": [
    "for i,c in enumerate(raw_train_ds.class_names):\n",
    "    print(f\"Label: {i} => Class: {c}\")"
   ]
  },
  {
   "cell_type": "code",
   "execution_count": 202,
   "metadata": {},
   "outputs": [
    {
     "name": "stdout",
     "output_type": "stream",
     "text": [
      "Label: 1 (java) => Post: b'\"my tester is going to the wrong constructor i am new to programming so if i ask a question that can be easily fixed, please forgive me. my program has a tester class with a main. when i send that to my regularpolygon class, it sends it to the wrong constructor. i have two constructors. 1 without perameters..public regularpolygon().    {.       mynumsides = 5;.       mysidelength = 30;.    }//end default constructor...and my second, with perameters. ..public regularpolygon(int numsides, double sidelength).    {.        mynumsides = numsides;.        mysidelength = sidelength;.    }// end constructor...in my tester class i have these two lines:..regularpolygon shape = new regularpolygon(numsides, sidelength);.        shape.menu();...numsides and sidelength were declared and initialized earlier in the testing class...so what i want to happen, is the tester class sends numsides and sidelength to the second constructor and use it in that class. but it only uses the default constructor, which therefor ruins the whole rest of the program. can somebody help me?..for those of you who want to see more of my code: here you go..public double vertexangle().    {.        system.out.println(\"\"the vertex angle method: \"\" + mynumsides);// prints out 5.        system.out.println(\"\"the vertex angle method: \"\" + mysidelength); // prints out 30..        double vertexangle;.        vertexangle = ((mynumsides - 2.0) / mynumsides) * 180.0;.        return vertexangle;.    }//end method vertexangle..public void menu().{.    system.out.println(mynumsides); // prints out what the user puts in.    system.out.println(mysidelength); // prints out what the user puts in.    gotographic();.    calcr(mynumsides, mysidelength);.    calcr(mynumsides, mysidelength);.    print(); .}// end menu...this is my entire tester class:..public static void main(string[] arg).{.    int numsides;.    double sidelength;.    scanner keyboard = new scanner(system.in);..    system.out.println(\"\"welcome to the regular polygon program!\"\");.    system.out.println();..    system.out.print(\"\"enter the number of sides of the polygon ==&gt; \"\");.    numsides = keyboard.nextint();.    system.out.println();..    system.out.print(\"\"enter the side length of each side ==&gt; \"\");.    sidelength = keyboard.nextdouble();.    system.out.println();..    regularpolygon shape = new regularpolygon(numsides, sidelength);.    shape.menu();.}//end main...for testing it i sent it numsides 4 and sidelength 100.\"\\n'\n"
     ]
    }
   ],
   "source": [
    "for text_batch, label_batch in raw_train_ds.take(1):\n",
    "  for i in range(1):\n",
    "    print(f\"Label: {label_batch.numpy()[i]} ({raw_train_ds.class_names[label_batch.numpy()[i]]})\"\n",
    "          f\" => Post: {text_batch.numpy()[i]}\")"
   ]
  },
  {
   "cell_type": "markdown",
   "metadata": {},
   "source": [
    "## Text Preprocessing"
   ]
  },
  {
   "cell_type": "code",
   "execution_count": 203,
   "metadata": {},
   "outputs": [],
   "source": [
    "# Create a custom standardization function to strip HTML break tags '<br />'.\n",
    "def custom_standardization(input_data):\n",
    "    lowercase = tf.strings.lower(input_data)\n",
    "    stripped_html = tf.strings.regex_replace(lowercase, '<br />', ' ')\n",
    "    stripped_punct = tf.strings.regex_replace(stripped_html, '[%s]' % re.escape(string.punctuation), '')\n",
    "    return stripped_punct"
   ]
  },
  {
   "cell_type": "code",
   "execution_count": 373,
   "metadata": {},
   "outputs": [],
   "source": [
    "# Vocabulary size (features) and number of words in a sequence (review).\n",
    "# max_features = 10000\n",
    "# sequence_length = 250\n",
    "max_features = 15000\n",
    "sequence_length = 350\n",
    "\n",
    "# Use the text vectorization layer to normalize, split, and map strings to\n",
    "# integers. Note that the layer uses the custom standardization defined above.\n",
    "# Set maximum_sequence length as all samples are not of the same length.\n",
    "vectorize_layer = layers.TextVectorization(\n",
    "                    standardize=custom_standardization,\n",
    "                    max_tokens=max_features,\n",
    "                    output_mode='int',\n",
    "                    output_sequence_length=sequence_length)"
   ]
  },
  {
   "cell_type": "code",
   "execution_count": 374,
   "metadata": {},
   "outputs": [],
   "source": [
    "# Make a text-only dataset (no labels) and call adapt to build the vocabulary.\n",
    "train_text = raw_train_ds.map(lambda x, y: x)\n",
    "vectorize_layer.adapt(train_text)"
   ]
  },
  {
   "cell_type": "code",
   "execution_count": 375,
   "metadata": {},
   "outputs": [],
   "source": [
    "def vectorize_text(text, label):\n",
    "    text = tf.expand_dims(text, -1)\n",
    "    return vectorize_layer(text), label"
   ]
  },
  {
   "cell_type": "code",
   "execution_count": 376,
   "metadata": {},
   "outputs": [
    {
     "name": "stdout",
     "output_type": "stream",
     "text": [
      "Review tf.Tensor(b'\"list<t>contains method as extension method not working? i want to write an extension method like the contains method of the list class for the list class that takes an null able object. .my extension method is :..public static class customlist.    {.        public static bool contains&lt;t&gt;(this list&lt;t&gt; lst, nullable&lt;t&gt; obj) where t : struct.        {.            bool bcontains = false;.            if (obj == null).            {.                bcontains = false;.            }.            else.            {.                t obj1 = (t)obj.value;.                bcontains = lst.contains(obj1);.            }..            return bcontains;.        }.}...my  linq code which calls the extension method is given below:..var lstjobactivity = (from objactivity in context.vw_job_activity.                                  where jobassignid.contains(objactivity.assign_id) &amp;&amp; objactivity.activity_type == \"\"jbintv\"\".                                  select objactivity).tolist&lt;vw_job_activity&gt;();...where objactivity.assign_id is null...the error is showing is given below:...  linq to entities does not recognize the method \\'boolean contains[int64](system.collections.generic.list1[system.int64], system.nullable1[system.int64])\\' method, and this method cannot be translated into a store expression.\"\\n', shape=(), dtype=string)\n",
      "Label csharp\n",
      "Vectorized review (<tf.Tensor: shape=(1, 350), dtype=int64, numpy=\n",
      "array([[    1,    64,    36,   988,    64,    20,   158,     3,    46,\n",
      "            4,   173,    32,   988,    64,    48,     2,   296,    64,\n",
      "            9,     2,    54,    29,    12,     2,    54,    29,    14,\n",
      "          471,    32,   112,   235,    63,    23,   988,    64,     6,\n",
      "           22,    53,    29,     1,    22,    53,   464,     1,  5120,\n",
      "         7621,     1,   531,   132,   237,  1624,   464, 10433,    97,\n",
      "           10,   531,   112, 10433,    97,    50,   237,  5068,     1,\n",
      "        10433,     1,    27, 10433,    23,  2488,    30,    66,   701,\n",
      "            2,   988,    64,     6,   283,  4793,     1,    31,     1,\n",
      "            7,     1,   132,     1,   143,     1,     1,   328,     1,\n",
      "            1,     6, 12301,    65,     6,   959,     6,   283,   168,\n",
      "         2488,     4,  3109,   113,    20,  2571,     2,    64,   248,\n",
      "            1,     1,    64,     8,    13,    64,   209,    33,  4429,\n",
      "          100,     5,   384,   558,     0,     0,     0,     0,     0,\n",
      "            0,     0,     0,     0,     0,     0,     0,     0,     0,\n",
      "            0,     0,     0,     0,     0,     0,     0,     0,     0,\n",
      "            0,     0,     0,     0,     0,     0,     0,     0,     0,\n",
      "            0,     0,     0,     0,     0,     0,     0,     0,     0,\n",
      "            0,     0,     0,     0,     0,     0,     0,     0,     0,\n",
      "            0,     0,     0,     0,     0,     0,     0,     0,     0,\n",
      "            0,     0,     0,     0,     0,     0,     0,     0,     0,\n",
      "            0,     0,     0,     0,     0,     0,     0,     0,     0,\n",
      "            0,     0,     0,     0,     0,     0,     0,     0,     0,\n",
      "            0,     0,     0,     0,     0,     0,     0,     0,     0,\n",
      "            0,     0,     0,     0,     0,     0,     0,     0,     0,\n",
      "            0,     0,     0,     0,     0,     0,     0,     0,     0,\n",
      "            0,     0,     0,     0,     0,     0,     0,     0,     0,\n",
      "            0,     0,     0,     0,     0,     0,     0,     0,     0,\n",
      "            0,     0,     0,     0,     0,     0,     0,     0,     0,\n",
      "            0,     0,     0,     0,     0,     0,     0,     0,     0,\n",
      "            0,     0,     0,     0,     0,     0,     0,     0,     0,\n",
      "            0,     0,     0,     0,     0,     0,     0,     0,     0,\n",
      "            0,     0,     0,     0,     0,     0,     0,     0,     0,\n",
      "            0,     0,     0,     0,     0,     0,     0,     0,     0,\n",
      "            0,     0,     0,     0,     0,     0,     0,     0,     0,\n",
      "            0,     0,     0,     0,     0,     0,     0,     0,     0,\n",
      "            0,     0,     0,     0,     0,     0,     0,     0,     0,\n",
      "            0,     0,     0,     0,     0,     0,     0,     0,     0,\n",
      "            0,     0,     0,     0,     0,     0,     0,     0]],\n",
      "      dtype=int64)>, <tf.Tensor: shape=(), dtype=int32, numpy=0>)\n"
     ]
    }
   ],
   "source": [
    "# retrieve a batch (of 32 reviews and labels) from the dataset\n",
    "text_batch, label_batch = next(iter(raw_train_ds))\n",
    "first_review, first_label = text_batch[0], label_batch[0]\n",
    "print(\"Review\", first_review)\n",
    "print(\"Label\", raw_train_ds.class_names[first_label])\n",
    "print(\"Vectorized review\", vectorize_text(first_review, first_label))"
   ]
  },
  {
   "cell_type": "code",
   "execution_count": 377,
   "metadata": {},
   "outputs": [
    {
     "name": "stdout",
     "output_type": "stream",
     "text": [
      "1287 --->  saw\n",
      " 313 --->  source\n",
      "Vocabulary size: 15000\n"
     ]
    }
   ],
   "source": [
    "print(\"1287 ---> \",vectorize_layer.get_vocabulary()[1287])\n",
    "print(\" 313 ---> \",vectorize_layer.get_vocabulary()[313])\n",
    "print('Vocabulary size: {}'.format(len(vectorize_layer.get_vocabulary())))"
   ]
  },
  {
   "cell_type": "code",
   "execution_count": 378,
   "metadata": {},
   "outputs": [],
   "source": [
    "# Create vectorized training, validation, and test datasets\n",
    "train_ds = raw_train_ds.map(vectorize_text)\n",
    "val_ds = raw_val_ds.map(vectorize_text)\n",
    "test_ds = raw_test_ds.map(vectorize_text)"
   ]
  },
  {
   "cell_type": "code",
   "execution_count": 379,
   "metadata": {},
   "outputs": [
    {
     "data": {
      "text/plain": [
       "[(array([[  987,    38,  6673, ...,     0,     0,     0],\n",
       "         [   24,     4,   693, ...,     0,     0,     0],\n",
       "         [ 2932,  1096,   645, ...,     0,     0,     0],\n",
       "         ...,\n",
       "         [10948,  4095,   223, ...,     0,     0,     0],\n",
       "         [    1,    74,   254, ...,     0,     0,     0],\n",
       "         [    1,   231,  1429, ...,     0,     0,     0]], dtype=int64),\n",
       "  array([0, 1, 0, 2, 1, 1, 1, 3, 0, 1, 1, 0, 3, 2, 1, 2, 0, 0, 3, 0, 1, 2,\n",
       "         1, 0, 1, 1, 0, 3, 1, 2, 0, 0]))]"
      ]
     },
     "execution_count": 379,
     "metadata": {},
     "output_type": "execute_result"
    }
   ],
   "source": [
    "[ x for x in train_ds.take(1).as_numpy_iterator() ]\n",
    "# print(dir(train_ds))"
   ]
  },
  {
   "cell_type": "markdown",
   "metadata": {},
   "source": [
    "## Configure the Dataset for Performance"
   ]
  },
  {
   "cell_type": "code",
   "execution_count": 380,
   "metadata": {},
   "outputs": [],
   "source": [
    "AUTOTUNE = tf.data.AUTOTUNE\n",
    "train_ds = train_ds.cache().prefetch(buffer_size=AUTOTUNE)\n",
    "val_ds = val_ds.cache().prefetch(buffer_size=AUTOTUNE)\n",
    "test_ds = test_ds.cache().prefetch(buffer_size=AUTOTUNE)"
   ]
  },
  {
   "cell_type": "markdown",
   "metadata": {},
   "source": [
    "## Create a Classification Model"
   ]
  },
  {
   "cell_type": "code",
   "execution_count": 381,
   "metadata": {},
   "outputs": [
    {
     "name": "stdout",
     "output_type": "stream",
     "text": [
      "Model: \"sequential_19\"\n",
      "_________________________________________________________________\n",
      "Layer (type)                 Output Shape              Param #   \n",
      "=================================================================\n",
      "embedding_10 (Embedding)     (None, None, 32)          480032    \n",
      "_________________________________________________________________\n",
      "dropout_20 (Dropout)         (None, None, 32)          0         \n",
      "_________________________________________________________________\n",
      "global_average_pooling1d_10  (None, 32)                0         \n",
      "_________________________________________________________________\n",
      "dropout_21 (Dropout)         (None, 32)                0         \n",
      "_________________________________________________________________\n",
      "dense_10 (Dense)             (None, 4)                 132       \n",
      "=================================================================\n",
      "Total params: 480,164\n",
      "Trainable params: 480,164\n",
      "Non-trainable params: 0\n",
      "_________________________________________________________________\n"
     ]
    }
   ],
   "source": [
    "embedding_dim = 32\n",
    "model = tf.keras.Sequential( [\n",
    "    layers.Embedding( max_features+1, embedding_dim ),\n",
    "    layers.Dropout(0.2),\n",
    "    layers.GlobalAveragePooling1D(),\n",
    "    layers.Dropout(0.2),\n",
    "    layers.Dense(4)\n",
    "    ])\n",
    "\n",
    "model.summary()"
   ]
  },
  {
   "cell_type": "markdown",
   "metadata": {},
   "source": [
    "## Compile and Train the Model"
   ]
  },
  {
   "cell_type": "code",
   "execution_count": 382,
   "metadata": {},
   "outputs": [
    {
     "name": "stdout",
     "output_type": "stream",
     "text": [
      "Prepared log dir: .\\logs\\fit_20211119-135006\n"
     ]
    }
   ],
   "source": [
    "# tensorboard_callback = tf.keras.callbacks.TensorBoard(log_dir='logs')\n",
    "LOGS_ROOTDIR = os.path.join('.', 'logs')\n",
    "this_run_log_dir = os.path.join( LOGS_ROOTDIR, \"fit_\" + dt.datetime.now().strftime(\"%Y%m%d-%H%M%S\") )\n",
    "tensorboard_callback = tf.keras.callbacks.TensorBoard(log_dir=this_run_log_dir, histogram_freq=1)\n",
    "print(f\"Prepared log dir: {this_run_log_dir}\")\n",
    "\n",
    "# Stop epochs if validation loss is increasing\n",
    "earlystopping_callback = tf.keras.callbacks.EarlyStopping(monitor='val_loss', patience=8, restore_best_weights=True)"
   ]
  },
  {
   "cell_type": "code",
   "execution_count": 383,
   "metadata": {},
   "outputs": [],
   "source": [
    "model.compile(\n",
    "    optimizer='adam',\n",
    "    loss=losses.SparseCategoricalCrossentropy(from_logits=True),\n",
    "    metrics=['accuracy']\n",
    "    )"
   ]
  },
  {
   "cell_type": "code",
   "execution_count": 384,
   "metadata": {},
   "outputs": [
    {
     "name": "stdout",
     "output_type": "stream",
     "text": [
      "Epoch 1/100\n",
      "200/200 [==============================] - 8s 36ms/step - loss: 1.3766 - accuracy: 0.3369 - val_loss: 1.3636 - val_accuracy: 0.4675\n",
      "Epoch 2/100\n",
      "200/200 [==============================] - 3s 17ms/step - loss: 1.3425 - accuracy: 0.4719 - val_loss: 1.3182 - val_accuracy: 0.5675\n",
      "Epoch 3/100\n",
      "200/200 [==============================] - 3s 17ms/step - loss: 1.2817 - accuracy: 0.5544 - val_loss: 1.2490 - val_accuracy: 0.6144\n",
      "Epoch 4/100\n",
      "200/200 [==============================] - 4s 18ms/step - loss: 1.2009 - accuracy: 0.6072 - val_loss: 1.1675 - val_accuracy: 0.6631\n",
      "Epoch 5/100\n",
      "200/200 [==============================] - 3s 17ms/step - loss: 1.1121 - accuracy: 0.6630 - val_loss: 1.0850 - val_accuracy: 0.6956\n",
      "Epoch 6/100\n",
      "200/200 [==============================] - 3s 17ms/step - loss: 1.0288 - accuracy: 0.7017 - val_loss: 1.0083 - val_accuracy: 0.7212\n",
      "Epoch 7/100\n",
      "200/200 [==============================] - 3s 17ms/step - loss: 0.9492 - accuracy: 0.7391 - val_loss: 0.9395 - val_accuracy: 0.7350\n",
      "Epoch 8/100\n",
      "200/200 [==============================] - 3s 17ms/step - loss: 0.8773 - accuracy: 0.7570 - val_loss: 0.8803 - val_accuracy: 0.7531\n",
      "Epoch 9/100\n",
      "200/200 [==============================] - 3s 17ms/step - loss: 0.8150 - accuracy: 0.7802 - val_loss: 0.8278 - val_accuracy: 0.7656\n",
      "Epoch 10/100\n",
      "200/200 [==============================] - 3s 17ms/step - loss: 0.7597 - accuracy: 0.7931 - val_loss: 0.7837 - val_accuracy: 0.7719\n",
      "Epoch 11/100\n",
      "200/200 [==============================] - 4s 18ms/step - loss: 0.7136 - accuracy: 0.8072 - val_loss: 0.7467 - val_accuracy: 0.7825\n",
      "Epoch 12/100\n",
      "200/200 [==============================] - 4s 19ms/step - loss: 0.6700 - accuracy: 0.8219 - val_loss: 0.7134 - val_accuracy: 0.7881\n",
      "Epoch 13/100\n",
      "200/200 [==============================] - 4s 18ms/step - loss: 0.6318 - accuracy: 0.8292 - val_loss: 0.6850 - val_accuracy: 0.7906\n",
      "Epoch 14/100\n",
      "200/200 [==============================] - 4s 19ms/step - loss: 0.5970 - accuracy: 0.8392 - val_loss: 0.6601 - val_accuracy: 0.7944\n",
      "Epoch 15/100\n",
      "200/200 [==============================] - 4s 18ms/step - loss: 0.5654 - accuracy: 0.8508 - val_loss: 0.6372 - val_accuracy: 0.7969\n",
      "Epoch 16/100\n",
      "200/200 [==============================] - 3s 17ms/step - loss: 0.5380 - accuracy: 0.8564 - val_loss: 0.6180 - val_accuracy: 0.8000\n",
      "Epoch 17/100\n",
      "200/200 [==============================] - 3s 17ms/step - loss: 0.5092 - accuracy: 0.8675 - val_loss: 0.6004 - val_accuracy: 0.8025\n",
      "Epoch 18/100\n",
      "200/200 [==============================] - 3s 17ms/step - loss: 0.4869 - accuracy: 0.8781 - val_loss: 0.5850 - val_accuracy: 0.8069\n",
      "Epoch 19/100\n",
      "200/200 [==============================] - 3s 17ms/step - loss: 0.4638 - accuracy: 0.8834 - val_loss: 0.5704 - val_accuracy: 0.8100\n",
      "Epoch 20/100\n",
      "200/200 [==============================] - 3s 17ms/step - loss: 0.4443 - accuracy: 0.8877 - val_loss: 0.5584 - val_accuracy: 0.8131\n",
      "Epoch 21/100\n",
      "200/200 [==============================] - 3s 17ms/step - loss: 0.4252 - accuracy: 0.8900 - val_loss: 0.5473 - val_accuracy: 0.8188\n",
      "Epoch 22/100\n",
      "200/200 [==============================] - 3s 17ms/step - loss: 0.4054 - accuracy: 0.8994 - val_loss: 0.5366 - val_accuracy: 0.8219\n",
      "Epoch 23/100\n",
      "200/200 [==============================] - 3s 17ms/step - loss: 0.3887 - accuracy: 0.9025 - val_loss: 0.5279 - val_accuracy: 0.8219\n",
      "Epoch 24/100\n",
      "200/200 [==============================] - 3s 17ms/step - loss: 0.3721 - accuracy: 0.9094 - val_loss: 0.5199 - val_accuracy: 0.8281\n",
      "Epoch 25/100\n",
      "200/200 [==============================] - 3s 17ms/step - loss: 0.3574 - accuracy: 0.9120 - val_loss: 0.5128 - val_accuracy: 0.8331\n",
      "Epoch 26/100\n",
      "200/200 [==============================] - 4s 18ms/step - loss: 0.3429 - accuracy: 0.9172 - val_loss: 0.5062 - val_accuracy: 0.8313\n",
      "Epoch 27/100\n",
      "200/200 [==============================] - 4s 18ms/step - loss: 0.3269 - accuracy: 0.9200 - val_loss: 0.5006 - val_accuracy: 0.8338\n",
      "Epoch 28/100\n",
      "200/200 [==============================] - 4s 18ms/step - loss: 0.3153 - accuracy: 0.9262 - val_loss: 0.4957 - val_accuracy: 0.8350\n",
      "Epoch 29/100\n",
      "200/200 [==============================] - 4s 18ms/step - loss: 0.3029 - accuracy: 0.9272 - val_loss: 0.4911 - val_accuracy: 0.8319\n",
      "Epoch 30/100\n",
      "200/200 [==============================] - 3s 17ms/step - loss: 0.2889 - accuracy: 0.9317 - val_loss: 0.4877 - val_accuracy: 0.8350\n",
      "Epoch 31/100\n",
      "200/200 [==============================] - 4s 19ms/step - loss: 0.2809 - accuracy: 0.9334 - val_loss: 0.4835 - val_accuracy: 0.8369\n",
      "Epoch 32/100\n",
      "200/200 [==============================] - 4s 19ms/step - loss: 0.2695 - accuracy: 0.9372 - val_loss: 0.4807 - val_accuracy: 0.8350\n",
      "Epoch 33/100\n",
      "200/200 [==============================] - 4s 20ms/step - loss: 0.2586 - accuracy: 0.9389 - val_loss: 0.4784 - val_accuracy: 0.8375\n",
      "Epoch 34/100\n",
      "200/200 [==============================] - 4s 18ms/step - loss: 0.2489 - accuracy: 0.9406 - val_loss: 0.4755 - val_accuracy: 0.8375\n",
      "Epoch 35/100\n",
      "200/200 [==============================] - 3s 17ms/step - loss: 0.2388 - accuracy: 0.9453 - val_loss: 0.4732 - val_accuracy: 0.8388\n",
      "Epoch 36/100\n",
      "200/200 [==============================] - 3s 17ms/step - loss: 0.2305 - accuracy: 0.9488 - val_loss: 0.4734 - val_accuracy: 0.8363\n",
      "Epoch 37/100\n",
      "200/200 [==============================] - 3s 17ms/step - loss: 0.2215 - accuracy: 0.9495 - val_loss: 0.4706 - val_accuracy: 0.8369\n",
      "Epoch 38/100\n",
      "200/200 [==============================] - 3s 17ms/step - loss: 0.2133 - accuracy: 0.9514 - val_loss: 0.4703 - val_accuracy: 0.8369\n",
      "Epoch 39/100\n",
      "200/200 [==============================] - 3s 17ms/step - loss: 0.2053 - accuracy: 0.9564 - val_loss: 0.4698 - val_accuracy: 0.8356\n",
      "Epoch 40/100\n",
      "200/200 [==============================] - 3s 17ms/step - loss: 0.1976 - accuracy: 0.9558 - val_loss: 0.4688 - val_accuracy: 0.8375\n",
      "Epoch 41/100\n",
      "200/200 [==============================] - 3s 17ms/step - loss: 0.1893 - accuracy: 0.9581 - val_loss: 0.4700 - val_accuracy: 0.8356\n",
      "Epoch 42/100\n",
      "200/200 [==============================] - 4s 18ms/step - loss: 0.1839 - accuracy: 0.9609 - val_loss: 0.4702 - val_accuracy: 0.8338\n",
      "Epoch 43/100\n",
      "200/200 [==============================] - 4s 18ms/step - loss: 0.1763 - accuracy: 0.9611 - val_loss: 0.4718 - val_accuracy: 0.8356\n",
      "Epoch 44/100\n",
      "200/200 [==============================] - 4s 18ms/step - loss: 0.1699 - accuracy: 0.9627 - val_loss: 0.4713 - val_accuracy: 0.8344\n",
      "Epoch 45/100\n",
      "200/200 [==============================] - 4s 18ms/step - loss: 0.1652 - accuracy: 0.9655 - val_loss: 0.4715 - val_accuracy: 0.8369\n",
      "Epoch 46/100\n",
      "200/200 [==============================] - 4s 18ms/step - loss: 0.1582 - accuracy: 0.9678 - val_loss: 0.4756 - val_accuracy: 0.8350\n",
      "Epoch 47/100\n",
      "200/200 [==============================] - 3s 17ms/step - loss: 0.1518 - accuracy: 0.9694 - val_loss: 0.4743 - val_accuracy: 0.8369\n",
      "Epoch 48/100\n",
      "200/200 [==============================] - 3s 17ms/step - loss: 0.1457 - accuracy: 0.9698 - val_loss: 0.4761 - val_accuracy: 0.8381\n"
     ]
    }
   ],
   "source": [
    "epochs = 100\n",
    "history = model.fit(\n",
    "    train_ds,\n",
    "    validation_data=val_ds,\n",
    "    epochs=epochs,\n",
    "    callbacks=[tensorboard_callback, earlystopping_callback]\n",
    "    )"
   ]
  },
  {
   "cell_type": "markdown",
   "metadata": {},
   "source": [
    "## Evaluate the Model"
   ]
  },
  {
   "cell_type": "code",
   "execution_count": 385,
   "metadata": {},
   "outputs": [
    {
     "name": "stdout",
     "output_type": "stream",
     "text": [
      "250/250 [==============================] - 3s 13ms/step - loss: 0.5350 - accuracy: 0.8035\n",
      "Loss:  0.5350119471549988\n",
      "Accuracy:  0.8034999966621399\n",
      "dict_keys(['loss', 'accuracy', 'val_loss', 'val_accuracy'])\n"
     ]
    },
    {
     "data": {
      "text/plain": [
       "<matplotlib.lines.Line2D at 0x188022b6790>"
      ]
     },
     "execution_count": 385,
     "metadata": {},
     "output_type": "execute_result"
    },
    {
     "data": {
      "image/png": "[encoded data removed]",
      "text/plain": [
       "<Figure size 432x288 with 1 Axes>"
      ]
     },
     "metadata": {
      "needs_background": "light"
     },
     "output_type": "display_data"
    }
   ],
   "source": [
    "loss, accuracy = model.evaluate(test_ds)\n",
    "print(\"Loss: \", loss)\n",
    "print(\"Accuracy: \", accuracy)\n",
    "\n",
    "history_dict = history.history\n",
    "print( history_dict.keys() )\n",
    "\n",
    "plt.plot( 'accuracy', 'b-', data=history.history )\n",
    "plt.plot( 'val_accuracy', 'g:', data=history.history )\n",
    "# plt.plot( [accuracy]*len(history.history['binary_accuracy']), 'r--', data=history.history )\n",
    "y_axis_min_val = max( 0, round(min(accuracy, min(history.history['val_accuracy']), min(history.history['accuracy']) )-0.1, 1) )\n",
    "_ = plt.ylim( y_axis_min_val, 1.0)\n",
    "plt.axhline( accuracy, color='r', linestyle=':')"
   ]
  },
  {
   "cell_type": "code",
   "execution_count": 386,
   "metadata": {
    "tags": []
   },
   "outputs": [
    {
     "data": {
      "text/plain": [
       "Reusing TensorBoard on port 6006 (pid 23932), started 1 day, 22:48:26 ago. (Use '!kill 23932' to kill it.)"
      ]
     },
     "metadata": {},
     "output_type": "display_data"
    },
    {
     "data": {
      "text/html": [
       "\n",
       "      <iframe id=\"tensorboard-frame-fae98aad2a5a2919\" width=\"100%\" height=\"800\" frameborder=\"0\">\n",
       "      </iframe>\n",
       "      <script>\n",
       "        (function() {\n",
       "          const frame = document.getElementById(\"tensorboard-frame-fae98aad2a5a2919\");\n",
       "          const url = new URL(\"/\", window.location);\n",
       "          const port = 6006;\n",
       "          if (port) {\n",
       "            url.port = port;\n",
       "          }\n",
       "          frame.src = url;\n",
       "        })();\n",
       "      </script>\n",
       "    "
      ],
      "text/plain": [
       "<IPython.core.display.HTML object>"
      ]
     },
     "metadata": {},
     "output_type": "display_data"
    }
   ],
   "source": [
    "%tensorboard --logdir logs"
   ]
  },
  {
   "cell_type": "markdown",
   "metadata": {},
   "source": [
    "## Export the Model"
   ]
  },
  {
   "cell_type": "code",
   "execution_count": 387,
   "metadata": {},
   "outputs": [
    {
     "name": "stdout",
     "output_type": "stream",
     "text": [
      "Model: \"sequential_20\"\n",
      "_________________________________________________________________\n",
      "Layer (type)                 Output Shape              Param #   \n",
      "=================================================================\n",
      "text_vectorization_6 (TextVe (None, 350)               0         \n",
      "_________________________________________________________________\n",
      "sequential_19 (Sequential)   (None, 4)                 480164    \n",
      "_________________________________________________________________\n",
      "softmax_6 (Softmax)          (None, 4)                 0         \n",
      "=================================================================\n",
      "Total params: 480,164\n",
      "Trainable params: 480,164\n",
      "Non-trainable params: 0\n",
      "_________________________________________________________________\n"
     ]
    }
   ],
   "source": [
    "# Wrap the trained model to permit it to be used directly in input strings (vs. vectors)\n",
    "# and then apply an activation layer to yield a floating result between 0 and 1\n",
    "export_model = tf.keras.Sequential([\n",
    "    vectorize_layer,\n",
    "    model,\n",
    "    layers.Softmax()\n",
    "    ])\n",
    "\n",
    "export_model.summary()"
   ]
  },
  {
   "cell_type": "code",
   "execution_count": 388,
   "metadata": {},
   "outputs": [],
   "source": [
    "export_model.compile(\n",
    "    optimizer=\"adam\",\n",
    "    loss=losses.SparseCategoricalCrossentropy(from_logits=False),\n",
    "    metrics=['accuracy']\n",
    "    )"
   ]
  },
  {
   "cell_type": "code",
   "execution_count": 389,
   "metadata": {},
   "outputs": [
    {
     "name": "stdout",
     "output_type": "stream",
     "text": [
      "250/250 [==============================] - 4s 13ms/step - loss: 0.5350 - accuracy: 0.8035\n",
      "0.8034999966621399\n"
     ]
    }
   ],
   "source": [
    "# Test it with `raw_test_ds`, which yields raw strings\n",
    "loss, accuracy = export_model.evaluate(raw_test_ds)\n",
    "print(accuracy)"
   ]
  },
  {
   "cell_type": "code",
   "execution_count": 390,
   "metadata": {},
   "outputs": [
    {
     "data": {
      "text/html": [
       "<div>\n",
       "<style scoped>\n",
       "    .dataframe tbody tr th:only-of-type {\n",
       "        vertical-align: middle;\n",
       "    }\n",
       "\n",
       "    .dataframe tbody tr th {\n",
       "        vertical-align: top;\n",
       "    }\n",
       "\n",
       "    .dataframe thead th {\n",
       "        text-align: right;\n",
       "    }\n",
       "</style>\n",
       "<table border=\"1\" class=\"dataframe\">\n",
       "  <thead>\n",
       "    <tr style=\"text-align: right;\">\n",
       "      <th></th>\n",
       "      <th>Post</th>\n",
       "      <th>True Label</th>\n",
       "      <th>True Class</th>\n",
       "      <th>Predicted Label</th>\n",
       "      <th>Predicted Class</th>\n",
       "      <th>c0 (csharp)</th>\n",
       "      <th>c1 (java)</th>\n",
       "      <th>c2 (javascript)</th>\n",
       "      <th>c3 (python)</th>\n",
       "      <th>max/mean</th>\n",
       "      <th>Prediction Correct</th>\n",
       "    </tr>\n",
       "  </thead>\n",
       "  <tbody>\n",
       "    <tr>\n",
       "      <th>2</th>\n",
       "      <td>\"add event listener for a div whenever it appe...</td>\n",
       "      <td>2</td>\n",
       "      <td>javascript</td>\n",
       "      <td>2</td>\n",
       "      <td>javascript</td>\n",
       "      <td>0.000</td>\n",
       "      <td>0.000</td>\n",
       "      <td>1.000</td>\n",
       "      <td>0.000</td>\n",
       "      <td>4.000</td>\n",
       "      <td>True</td>\n",
       "    </tr>\n",
       "    <tr>\n",
       "      <th>15</th>\n",
       "      <td>\"just some thing i am working on that is broke...</td>\n",
       "      <td>1</td>\n",
       "      <td>java</td>\n",
       "      <td>1</td>\n",
       "      <td>java</td>\n",
       "      <td>0.000</td>\n",
       "      <td>1.000</td>\n",
       "      <td>0.000</td>\n",
       "      <td>0.000</td>\n",
       "      <td>4.000</td>\n",
       "      <td>True</td>\n",
       "    </tr>\n",
       "    <tr>\n",
       "      <th>14</th>\n",
       "      <td>\"the sum of two linked lists a class nat repre...</td>\n",
       "      <td>1</td>\n",
       "      <td>java</td>\n",
       "      <td>1</td>\n",
       "      <td>java</td>\n",
       "      <td>0.001</td>\n",
       "      <td>0.999</td>\n",
       "      <td>0.000</td>\n",
       "      <td>0.000</td>\n",
       "      <td>3.996</td>\n",
       "      <td>True</td>\n",
       "    </tr>\n",
       "    <tr>\n",
       "      <th>6</th>\n",
       "      <td>\"modulenotfounderror: no module named 'test2' ...</td>\n",
       "      <td>3</td>\n",
       "      <td>python</td>\n",
       "      <td>3</td>\n",
       "      <td>python</td>\n",
       "      <td>0.001</td>\n",
       "      <td>0.001</td>\n",
       "      <td>0.001</td>\n",
       "      <td>0.997</td>\n",
       "      <td>3.987</td>\n",
       "      <td>True</td>\n",
       "    </tr>\n",
       "    <tr>\n",
       "      <th>11</th>\n",
       "      <td>\"blank 'select' on change go to anchor (anchor...</td>\n",
       "      <td>2</td>\n",
       "      <td>javascript</td>\n",
       "      <td>2</td>\n",
       "      <td>javascript</td>\n",
       "      <td>0.006</td>\n",
       "      <td>0.000</td>\n",
       "      <td>0.994</td>\n",
       "      <td>0.000</td>\n",
       "      <td>3.976</td>\n",
       "      <td>True</td>\n",
       "    </tr>\n",
       "    <tr>\n",
       "      <th>12</th>\n",
       "      <td>\"blank removing item from listbox then it will...</td>\n",
       "      <td>0</td>\n",
       "      <td>csharp</td>\n",
       "      <td>0</td>\n",
       "      <td>csharp</td>\n",
       "      <td>0.992</td>\n",
       "      <td>0.005</td>\n",
       "      <td>0.003</td>\n",
       "      <td>0.000</td>\n",
       "      <td>3.966</td>\n",
       "      <td>True</td>\n",
       "    </tr>\n",
       "    <tr>\n",
       "      <th>13</th>\n",
       "      <td>\"how can i recode this nested for loop countin...</td>\n",
       "      <td>1</td>\n",
       "      <td>java</td>\n",
       "      <td>1</td>\n",
       "      <td>java</td>\n",
       "      <td>0.025</td>\n",
       "      <td>0.974</td>\n",
       "      <td>0.000</td>\n",
       "      <td>0.001</td>\n",
       "      <td>3.895</td>\n",
       "      <td>True</td>\n",
       "    </tr>\n",
       "    <tr>\n",
       "      <th>10</th>\n",
       "      <td>\"add/remove active class blank there is my sol...</td>\n",
       "      <td>2</td>\n",
       "      <td>javascript</td>\n",
       "      <td>2</td>\n",
       "      <td>javascript</td>\n",
       "      <td>0.005</td>\n",
       "      <td>0.006</td>\n",
       "      <td>0.971</td>\n",
       "      <td>0.018</td>\n",
       "      <td>3.886</td>\n",
       "      <td>True</td>\n",
       "    </tr>\n",
       "    <tr>\n",
       "      <th>4</th>\n",
       "      <td>\"error on adjusting jpeg quality: value cannot...</td>\n",
       "      <td>0</td>\n",
       "      <td>csharp</td>\n",
       "      <td>0</td>\n",
       "      <td>csharp</td>\n",
       "      <td>0.950</td>\n",
       "      <td>0.047</td>\n",
       "      <td>0.001</td>\n",
       "      <td>0.002</td>\n",
       "      <td>3.800</td>\n",
       "      <td>True</td>\n",
       "    </tr>\n",
       "    <tr>\n",
       "      <th>7</th>\n",
       "      <td>\"how to remove a pair in hashtable knowing the...</td>\n",
       "      <td>0</td>\n",
       "      <td>csharp</td>\n",
       "      <td>0</td>\n",
       "      <td>csharp</td>\n",
       "      <td>0.939</td>\n",
       "      <td>0.041</td>\n",
       "      <td>0.001</td>\n",
       "      <td>0.019</td>\n",
       "      <td>3.757</td>\n",
       "      <td>True</td>\n",
       "    </tr>\n",
       "    <tr>\n",
       "      <th>0</th>\n",
       "      <td>\"how may i access the option values withing an...</td>\n",
       "      <td>2</td>\n",
       "      <td>javascript</td>\n",
       "      <td>2</td>\n",
       "      <td>javascript</td>\n",
       "      <td>0.073</td>\n",
       "      <td>0.043</td>\n",
       "      <td>0.877</td>\n",
       "      <td>0.007</td>\n",
       "      <td>3.508</td>\n",
       "      <td>True</td>\n",
       "    </tr>\n",
       "    <tr>\n",
       "      <th>1</th>\n",
       "      <td>\"reversing digits numbers in blank i've looked...</td>\n",
       "      <td>1</td>\n",
       "      <td>java</td>\n",
       "      <td>1</td>\n",
       "      <td>java</td>\n",
       "      <td>0.134</td>\n",
       "      <td>0.810</td>\n",
       "      <td>0.040</td>\n",
       "      <td>0.016</td>\n",
       "      <td>3.239</td>\n",
       "      <td>True</td>\n",
       "    </tr>\n",
       "    <tr>\n",
       "      <th>5</th>\n",
       "      <td>\"integer.parseint() - signed and unsigned numb...</td>\n",
       "      <td>1</td>\n",
       "      <td>java</td>\n",
       "      <td>1</td>\n",
       "      <td>java</td>\n",
       "      <td>0.114</td>\n",
       "      <td>0.761</td>\n",
       "      <td>0.025</td>\n",
       "      <td>0.100</td>\n",
       "      <td>3.046</td>\n",
       "      <td>True</td>\n",
       "    </tr>\n",
       "    <tr>\n",
       "      <th>8</th>\n",
       "      <td>\"blank library to automatically detect unknown...</td>\n",
       "      <td>3</td>\n",
       "      <td>python</td>\n",
       "      <td>3</td>\n",
       "      <td>python</td>\n",
       "      <td>0.113</td>\n",
       "      <td>0.297</td>\n",
       "      <td>0.007</td>\n",
       "      <td>0.584</td>\n",
       "      <td>2.335</td>\n",
       "      <td>True</td>\n",
       "    </tr>\n",
       "    <tr>\n",
       "      <th>3</th>\n",
       "      <td>\"what does blank:function syntax mean? check h...</td>\n",
       "      <td>2</td>\n",
       "      <td>javascript</td>\n",
       "      <td>2</td>\n",
       "      <td>javascript</td>\n",
       "      <td>0.129</td>\n",
       "      <td>0.158</td>\n",
       "      <td>0.570</td>\n",
       "      <td>0.143</td>\n",
       "      <td>2.281</td>\n",
       "      <td>True</td>\n",
       "    </tr>\n",
       "    <tr>\n",
       "      <th>9</th>\n",
       "      <td>\"rotate a set of images in an ellipse how can ...</td>\n",
       "      <td>2</td>\n",
       "      <td>javascript</td>\n",
       "      <td>2</td>\n",
       "      <td>javascript</td>\n",
       "      <td>0.268</td>\n",
       "      <td>0.066</td>\n",
       "      <td>0.566</td>\n",
       "      <td>0.099</td>\n",
       "      <td>2.265</td>\n",
       "      <td>True</td>\n",
       "    </tr>\n",
       "  </tbody>\n",
       "</table>\n",
       "</div>"
      ],
      "text/plain": [
       "                                                 Post  True Label  True Class  \\\n",
       "2   \"add event listener for a div whenever it appe...           2  javascript   \n",
       "15  \"just some thing i am working on that is broke...           1        java   \n",
       "14  \"the sum of two linked lists a class nat repre...           1        java   \n",
       "6   \"modulenotfounderror: no module named 'test2' ...           3      python   \n",
       "11  \"blank 'select' on change go to anchor (anchor...           2  javascript   \n",
       "12  \"blank removing item from listbox then it will...           0      csharp   \n",
       "13  \"how can i recode this nested for loop countin...           1        java   \n",
       "10  \"add/remove active class blank there is my sol...           2  javascript   \n",
       "4   \"error on adjusting jpeg quality: value cannot...           0      csharp   \n",
       "7   \"how to remove a pair in hashtable knowing the...           0      csharp   \n",
       "0   \"how may i access the option values withing an...           2  javascript   \n",
       "1   \"reversing digits numbers in blank i've looked...           1        java   \n",
       "5   \"integer.parseint() - signed and unsigned numb...           1        java   \n",
       "8   \"blank library to automatically detect unknown...           3      python   \n",
       "3   \"what does blank:function syntax mean? check h...           2  javascript   \n",
       "9   \"rotate a set of images in an ellipse how can ...           2  javascript   \n",
       "\n",
       "    Predicted Label Predicted Class  c0 (csharp)  c1 (java)  c2 (javascript)  \\\n",
       "2                 2      javascript        0.000      0.000            1.000   \n",
       "15                1            java        0.000      1.000            0.000   \n",
       "14                1            java        0.001      0.999            0.000   \n",
       "6                 3          python        0.001      0.001            0.001   \n",
       "11                2      javascript        0.006      0.000            0.994   \n",
       "12                0          csharp        0.992      0.005            0.003   \n",
       "13                1            java        0.025      0.974            0.000   \n",
       "10                2      javascript        0.005      0.006            0.971   \n",
       "4                 0          csharp        0.950      0.047            0.001   \n",
       "7                 0          csharp        0.939      0.041            0.001   \n",
       "0                 2      javascript        0.073      0.043            0.877   \n",
       "1                 1            java        0.134      0.810            0.040   \n",
       "5                 1            java        0.114      0.761            0.025   \n",
       "8                 3          python        0.113      0.297            0.007   \n",
       "3                 2      javascript        0.129      0.158            0.570   \n",
       "9                 2      javascript        0.268      0.066            0.566   \n",
       "\n",
       "    c3 (python)  max/mean  Prediction Correct  \n",
       "2         0.000     4.000                True  \n",
       "15        0.000     4.000                True  \n",
       "14        0.000     3.996                True  \n",
       "6         0.997     3.987                True  \n",
       "11        0.000     3.976                True  \n",
       "12        0.000     3.966                True  \n",
       "13        0.001     3.895                True  \n",
       "10        0.018     3.886                True  \n",
       "4         0.002     3.800                True  \n",
       "7         0.019     3.757                True  \n",
       "0         0.007     3.508                True  \n",
       "1         0.016     3.239                True  \n",
       "5         0.100     3.046                True  \n",
       "8         0.584     2.335                True  \n",
       "3         0.143     2.281                True  \n",
       "9         0.099     2.265                True  "
      ]
     },
     "execution_count": 390,
     "metadata": {},
     "output_type": "execute_result"
    }
   ],
   "source": [
    "# Some test examples\n",
    "n_examples = 16\n",
    "examples_np = [ x for x in raw_test_ds.take(n_examples).as_numpy_iterator() ]\n",
    "examples = [ x[0][0].decode() for x in examples_np ]\n",
    "true_labels = [ x[1][0] for x in examples_np ]\n",
    "true_classes = [ raw_train_ds.class_names[label] for label in true_labels ]\n",
    "\n",
    "preds = export_model.predict(examples)\n",
    "pred_labels = list(np.argmax(preds, axis=1))\n",
    "pred_classes = [ raw_train_ds.class_names[label] for label in pred_labels ]\n",
    "r_df = pd.concat([\n",
    "        pd.DataFrame( {'Post': examples,\n",
    "                       'True Label': true_labels, 'True Class': true_classes,\n",
    "                       'Predicted Label': pred_labels, 'Predicted Class': pred_classes\n",
    "                      }),\n",
    "        pd.DataFrame( preds, columns=['c0 (csharp)', 'c1 (java)', 'c2 (javascript)', 'c3 (python)'] ),\n",
    "        pd.DataFrame( np.max(preds, axis=1) / np.mean(preds, axis=1), columns=['max/mean'] )\n",
    "        ], axis=1 )\n",
    "r_df['Prediction Correct'] = r_df['Predicted Label'] == r_df['True Label']\n",
    "r_df = r_df[['Post', 'True Label', 'True Class', 'Predicted Label',\n",
    "       'Predicted Class', 'c0 (csharp)', 'c1 (java)', 'c2 (javascript)',\n",
    "       'c3 (python)', 'max/mean', 'Prediction Correct']]\n",
    "r_df.sort_values(by=['Prediction Correct', 'max/mean'], ascending=[False, False], inplace=True)\n",
    "r_df"
   ]
  },
  {
   "cell_type": "code",
   "execution_count": null,
   "metadata": {},
   "outputs": [],
   "source": []
  },
  {
   "cell_type": "markdown",
   "metadata": {},
   "source": [
    "## Retrieve the Trained Word Embeddings and Save them to Disk"
   ]
  },
  {
   "cell_type": "code",
   "execution_count": 28,
   "metadata": {},
   "outputs": [],
   "source": [
    "# weights = model.get_layer('embedding').get_weights()[0]\n",
    "# vocab = vectorize_layer.get_vocabulary()\n",
    "\n",
    "# with io.open('./data/vectors.tsv', 'w', encoding='utf-8') as out_v:\n",
    "#     with io.open('./data/metadata.tsv', 'w', encoding='utf-8') as out_m:\n",
    "#         for index, word in enumerate(vocab):\n",
    "#             if index == 0:\n",
    "#                 continue    # skip 0, it's padding\n",
    "                \n",
    "#             vec = weights[index]\n",
    "#             out_v.write( '\\t'.join( [ str(x) for x in vec ]) + '\\n' )\n",
    "#             out_m.write( word + '\\n' )\n"
   ]
  },
  {
   "cell_type": "markdown",
   "metadata": {},
   "source": [
    "## Visualize the Embeddings\n",
    "* Tensorflow Embedding Projector: http://projector.tensorflow.org/\n",
    "* Click on \"Load data\".\n",
    "* Upload the two files you created above: vecs.tsv and meta.tsv."
   ]
  },
  {
   "cell_type": "code",
   "execution_count": null,
   "metadata": {},
   "outputs": [],
   "source": []
  },
  {
   "cell_type": "code",
   "execution_count": null,
   "metadata": {},
   "outputs": [],
   "source": []
  }
 ],
 "metadata": {
  "interpreter": {
   "hash": "a32e172698e50824da0c33bd5d955f0bc05a5b3df854aad51c6c7dfa51d03fde"
  },
  "kernelspec": {
   "display_name": "Python [conda env:py38]",
   "language": "python",
   "name": "conda-env-py38-py"
  },
  "language_info": {
   "codemirror_mode": {
    "name": "ipython",
    "version": 3
   },
   "file_extension": ".py",
   "mimetype": "text/x-python",
   "name": "python",
   "nbconvert_exporter": "python",
   "pygments_lexer": "ipython3",
   "version": "3.8.11"
  }
 },
 "nbformat": 4,
 "nbformat_minor": 4
}

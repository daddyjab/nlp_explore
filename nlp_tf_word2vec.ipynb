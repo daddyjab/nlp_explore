{
 "cells": [
  {
   "cell_type": "markdown",
   "id": "1f49511d-8648-4d0e-a543-20dae3affae5",
   "metadata": {},
   "source": [
    "# Tensorflow: Word2Vec\n",
    "* This tutorial uses Word2Vec to make predictions of context words based upon a given target word\n",
    "* Reference: https://www.tensorflow.org/tutorials/text/word2vec"
   ]
  },
  {
   "cell_type": "code",
   "execution_count": 7,
   "id": "8aa305d7-946d-4877-be92-186d9f89a93f",
   "metadata": {},
   "outputs": [],
   "source": [
    "import io, re, string, tqdm, time\n",
    "import numpy as np\n",
    "import tensorflow as tf\n",
    "from tensorflow.keras import layers"
   ]
  },
  {
   "cell_type": "code",
   "execution_count": 12,
   "id": "4b73c54a-681c-4030-ae6c-a69df7edc599",
   "metadata": {},
   "outputs": [],
   "source": [
    "# Load the TensorBoard notebook extension\n",
    "%load_ext tensorboard"
   ]
  },
  {
   "cell_type": "code",
   "execution_count": 13,
   "id": "261a7237-7acb-49bb-b979-fae3cbfc8cec",
   "metadata": {},
   "outputs": [],
   "source": [
    "SEED = 42\n",
    "AUTOTUNE = tf.data.AUTOTUNE"
   ]
  },
  {
   "cell_type": "markdown",
   "id": "a4f77bc6-4626-4fc6-b0b5-97efba2bae8d",
   "metadata": {},
   "source": [
    "## Vectorize an Example Sentence"
   ]
  },
  {
   "cell_type": "code",
   "execution_count": 14,
   "id": "20331205-48d3-4aff-a2e9-52a75d15d205",
   "metadata": {},
   "outputs": [
    {
     "name": "stdout",
     "output_type": "stream",
     "text": [
      "8\n",
      "['the', 'wide', 'road', 'shimmered', 'in', 'the', 'hot', 'sun']\n"
     ]
    }
   ],
   "source": [
    "sentence = \"The wide road shimmered in the hot sun\"\n",
    "tokens = list( sentence.lower().split() )\n",
    "print(len(tokens))\n",
    "print(tokens)"
   ]
  },
  {
   "cell_type": "code",
   "execution_count": 15,
   "id": "2add16e9-556e-469e-94b1-772d648e5480",
   "metadata": {},
   "outputs": [
    {
     "name": "stdout",
     "output_type": "stream",
     "text": [
      "8\n",
      "{'<pad>': 0, 'the': 1, 'wide': 2, 'road': 3, 'shimmered': 4, 'in': 5, 'hot': 6, 'sun': 7}\n"
     ]
    }
   ],
   "source": [
    "vocab = {}\n",
    "index = 1            # Start indexing from 1\n",
    "vocab['<pad>'] = 0   # Add a padding token\n",
    "for token in tokens:\n",
    "    if token not in vocab:\n",
    "        vocab[token] = index\n",
    "        index += 1\n",
    "        \n",
    "vocab_size = len(vocab)\n",
    "print(vocab_size)\n",
    "print(vocab)"
   ]
  },
  {
   "cell_type": "code",
   "execution_count": 16,
   "id": "08d4a563-d8ef-4d43-b93e-2f729471efe9",
   "metadata": {},
   "outputs": [
    {
     "name": "stdout",
     "output_type": "stream",
     "text": [
      "{0: '<pad>', 1: 'the', 2: 'wide', 3: 'road', 4: 'shimmered', 5: 'in', 6: 'hot', 7: 'sun'}\n"
     ]
    }
   ],
   "source": [
    "inverse_vocab = { index:token for token, index in vocab.items() }\n",
    "print(inverse_vocab)"
   ]
  },
  {
   "cell_type": "code",
   "execution_count": 17,
   "id": "505bf308-2f7d-4697-90a2-a13ebf646b2d",
   "metadata": {},
   "outputs": [
    {
     "name": "stdout",
     "output_type": "stream",
     "text": [
      "[1, 2, 3, 4, 5, 1, 6, 7]\n"
     ]
    }
   ],
   "source": [
    "example_sequence = [ vocab[w] for w in tokens ]\n",
    "print(example_sequence)"
   ]
  },
  {
   "cell_type": "markdown",
   "id": "bf1bdc5a-6204-490e-a1b5-4eec46e8f8cb",
   "metadata": {},
   "source": [
    "## Generate skip-grams from One Sentence"
   ]
  },
  {
   "cell_type": "code",
   "execution_count": 19,
   "id": "0eba4f18-9522-40e1-bad4-012c64283b6c",
   "metadata": {},
   "outputs": [
    {
     "name": "stdout",
     "output_type": "stream",
     "text": [
      "26\n"
     ]
    }
   ],
   "source": [
    "window_size = 2\n",
    "positive_skip_grams, _ = tf.keras.preprocessing.sequence.skipgrams(\n",
    "    example_sequence,\n",
    "    vocabulary_size=vocab_size,\n",
    "    window_size=window_size,\n",
    "    negative_samples=0\n",
    "    )\n",
    "print(len(positive_skip_grams))"
   ]
  },
  {
   "cell_type": "code",
   "execution_count": 20,
   "id": "f33fde5e-98a6-4f6c-9d30-f818bd4c00cf",
   "metadata": {},
   "outputs": [
    {
     "name": "stdout",
     "output_type": "stream",
     "text": [
      "(1,7): (the, sun)\n",
      "(7,6): (sun, hot)\n",
      "(3,4): (road, shimmered)\n",
      "(5,1): (in, the)\n",
      "(6,5): (hot, in)\n"
     ]
    }
   ],
   "source": [
    "for t,c in positive_skip_grams[:5]:\n",
    "    print(f\"({t},{c}): ({inverse_vocab[t]}, {inverse_vocab[c]})\")"
   ]
  },
  {
   "cell_type": "code",
   "execution_count": 48,
   "id": "96288b00-06bb-4b12-bbf7-7661d81e8a32",
   "metadata": {},
   "outputs": [
    {
     "name": "stdout",
     "output_type": "stream",
     "text": [
      "(1,7): (the, sun)\n",
      "(1,6): (the, hot)\n",
      "(1,3): (the, road)\n",
      "(1,2): (the, wide)\n",
      "(1,4): (the, shimmered)\n",
      "(1,5): (the, in)\n"
     ]
    }
   ],
   "source": [
    "for t,c in positive_skip_grams:\n",
    "    if t==1:\n",
    "        print(f\"({t},{c}): ({inverse_vocab[t]}, {inverse_vocab[c]})\")"
   ]
  },
  {
   "cell_type": "markdown",
   "id": "db1ebcbf-4036-41f1-a515-b75aea6816bd",
   "metadata": {},
   "source": [
    "## Negative Sampling for One skip-gram"
   ]
  },
  {
   "cell_type": "code",
   "execution_count": 74,
   "id": "ba493b9e-0ecb-410e-b8c7-026434f837d1",
   "metadata": {},
   "outputs": [
    {
     "name": "stdout",
     "output_type": "stream",
     "text": [
      "[1, 7] => ['the', 'sun']\n",
      "tf.Tensor([5 3 1 6], shape=(4,), dtype=int64)\n",
      "['in', 'road', 'the', 'hot']\n"
     ]
    }
   ],
   "source": [
    "# Get target and context words for one positive skip-gram\n",
    "POS_SG_IDX = 0\n",
    "target_word, context_word = positive_skip_grams[POS_SG_IDX]\n",
    "\n",
    "# Set the number of negative samples per positive context\n",
    "num_ns = 4\n",
    "\n",
    "context_class = tf.reshape( tf.constant( context_word, dtype='int64'), (1,1) )\n",
    "negative_sampling_candidates, _, _ = tf.random.log_uniform_candidate_sampler(\n",
    "    true_classes=context_class,  # Class that should be sampled as 'positive'\n",
    "    num_true=1,                  # Each positive skip-gram has 1 positive context class\n",
    "    num_sampled=num_ns,          # Number of negative context words to sample\n",
    "    unique=True,                 # All the negative samples should be unique\n",
    "    range_max=vocab_size,        # Pick index of the samples from [0, vocab_size)\n",
    "    seed=SEED,                   # Seed for reproducibility\n",
    "    name=\"negative_sampling\"     # name of this operation\n",
    "    )\n",
    "\n",
    "print( positive_skip_grams[POS_SG_IDX], '=>', [ inverse_vocab[i] for i in  positive_skip_grams[POS_SG_IDX] ] )\n",
    "print( negative_sampling_candidates )\n",
    "print( [ inverse_vocab[i.numpy()] for i in negative_sampling_candidates ] )"
   ]
  },
  {
   "cell_type": "code",
   "execution_count": 75,
   "id": "38da5fc8-e02f-4ab2-8bd8-6f54470bce38",
   "metadata": {},
   "outputs": [
    {
     "name": "stdout",
     "output_type": "stream",
     "text": [
      "['the', 'wide', 'road', 'shimmered', 'in', 'the', 'hot', 'sun']\n",
      "(1,7): (the, sun)\n",
      "(1,6): (the, hot)\n",
      "(1,3): (the, road)\n",
      "(1,2): (the, wide)\n",
      "(1,4): (the, shimmered)\n",
      "(1,5): (the, in)\n"
     ]
    }
   ],
   "source": [
    "print(tokens)\n",
    "for t,c in positive_skip_grams:\n",
    "    if t==1:\n",
    "        print(f\"({t},{c}): ({inverse_vocab[t]}, {inverse_vocab[c]})\")"
   ]
  },
  {
   "cell_type": "markdown",
   "id": "8bd35b28-b8f1-428b-8d78-5c2da6e00dbc",
   "metadata": {},
   "source": [
    "## Construct One Training Example"
   ]
  },
  {
   "cell_type": "code",
   "execution_count": 76,
   "id": "52c44820-d363-48c2-825b-bd59ac50f5e9",
   "metadata": {},
   "outputs": [
    {
     "name": "stdout",
     "output_type": "stream",
     "text": [
      "target_index    : 1\n",
      "target_word     : the\n",
      "context_indices : [7 5 3 1 6]\n",
      "context_words   : ['sun', 'in', 'road', 'the', 'hot']\n",
      "label           : [1 0 0 0 0]\n"
     ]
    }
   ],
   "source": [
    "# Add a dimension so you can use concatenation (on the next step)\n",
    "negative_sampling_candidates = tf.expand_dims( negative_sampling_candidates, 1)\n",
    "\n",
    "# Concat positive context word with negative sampled words\n",
    "context = tf.concat( [context_class, negative_sampling_candidates], 0)\n",
    "\n",
    "# Label first context word as 1 (positive) followed by num_ns 0s (negative)\n",
    "label = tf.constant([1] + [0]*num_ns, dtype='int64')\n",
    "\n",
    "# Reshape target to shape (1,) and context and label to (num_ns+1,)\n",
    "target = tf.squeeze(target_word)\n",
    "context = tf.squeeze(context)\n",
    "label = tf.squeeze(label)\n",
    "\n",
    "print(f\"target_index    : {target}\")\n",
    "print(f\"target_word     : {inverse_vocab[target_word]}\")\n",
    "print(f\"context_indices : {context}\")\n",
    "print(f\"context_words   : {[inverse_vocab[c.numpy()] for c in context]}\")\n",
    "print(f\"label           : {label}\")"
   ]
  },
  {
   "cell_type": "code",
   "execution_count": 77,
   "id": "9a2d4b7f-227f-4e7f-9a90-4e8d4eaa8acc",
   "metadata": {},
   "outputs": [
    {
     "name": "stdout",
     "output_type": "stream",
     "text": [
      "target  : tf.Tensor(1, shape=(), dtype=int32)\n",
      "context : tf.Tensor([7 5 3 1 6], shape=(5,), dtype=int64)\n",
      "label   : tf.Tensor([1 0 0 0 0], shape=(5,), dtype=int64)\n"
     ]
    }
   ],
   "source": [
    "print(\"target  :\", target)\n",
    "print(\"context :\", context)\n",
    "print(\"label   :\", label)"
   ]
  },
  {
   "cell_type": "markdown",
   "id": "5ef8d6b4-fd55-4d56-98f7-b6fb1a672958",
   "metadata": {},
   "source": [
    "## Compile All Steps into One Function"
   ]
  },
  {
   "cell_type": "code",
   "execution_count": 78,
   "id": "9d9ceac8-3f0d-468c-9ff9-81015eaf3d46",
   "metadata": {},
   "outputs": [
    {
     "name": "stdout",
     "output_type": "stream",
     "text": [
      "[0.00315225 0.00315225 0.00547597 0.00741556 0.00912817 0.01068435\n",
      " 0.01212381 0.01347162 0.01474487 0.0159558 ]\n"
     ]
    }
   ],
   "source": [
    "sampling_table = tf.keras.preprocessing.sequence.make_sampling_table(size=10)\n",
    "print(sampling_table)"
   ]
  },
  {
   "cell_type": "code",
   "execution_count": 160,
   "id": "27e7660c-21e9-4f47-b356-e16816d6052b",
   "metadata": {},
   "outputs": [],
   "source": [
    "# Generates skip-gram pairs with negative sampling for a list of sequences\n",
    "# (int-encoded sentences) based on window size, number of negative samples\n",
    "# and vocabulary size\n",
    "def generate_training_data( sequences, window_size, num_ns, vocab_size, seed):\n",
    "    # Elements of each training example are appended to these lists\n",
    "    targets, contexts, labels = [], [], []\n",
    "    \n",
    "    # Build the samplin table for vocab_size tokens\n",
    "    sampling_table = tf.keras.preprocessing.sequence.make_sampling_table(vocab_size)\n",
    "    \n",
    "    # Iterate over all sequences (sentences) in dataset\n",
    "    for sequence in tqdm.tqdm(sequences):\n",
    "        \n",
    "        # Generate positive skip-gram pairs for a sequence (sentence)\n",
    "        positive_skip_grams, _ = tf.keras.preprocessing.sequence.skipgrams(\n",
    "            sequence,\n",
    "            vocabulary_size=vocab_size,\n",
    "            sampling_table=sampling_table,\n",
    "            window_size=window_size,\n",
    "            negative_samples=0\n",
    "            )\n",
    "        \n",
    "        # Iterate over each positive skip-gram pair to produce training examples\n",
    "        # with positive context word and negative samples\n",
    "        for target_word, context_word in positive_skip_grams:\n",
    "            context_class = tf.expand_dims( tf.constant([context_word], dtype='int64'), 1)\n",
    "            negative_sampling_candidates, _, _ = tf.random.log_uniform_candidate_sampler(\n",
    "                true_classes=context_class,\n",
    "                num_true=1,\n",
    "                num_sampled=num_ns,\n",
    "                unique=True,\n",
    "                range_max=vocab_size,\n",
    "                seed=SEED,\n",
    "                name=\"negative_sampling\"\n",
    "                )\n",
    "            \n",
    "            # Build context and label vectors (for one target word)\n",
    "            negative_sampling_candidates = tf.expand_dims( negative_sampling_candidates, 1)\n",
    "            context = tf.concat([ context_class, negative_sampling_candidates], 0)\n",
    "            label = tf.constant([1] + [0]*num_ns, dtype='int64')\n",
    "            \n",
    "            # Append each element from the training example to global lists\n",
    "            targets.append(target_word)\n",
    "            contexts.append(context)\n",
    "            labels.append(label)\n",
    "            \n",
    "    return targets, contexts, labels"
   ]
  },
  {
   "cell_type": "markdown",
   "id": "de253fe1-5533-4fd8-98d2-fec6c31ea465",
   "metadata": {},
   "source": [
    "## Prepare Training Data for Word2Vec"
   ]
  },
  {
   "cell_type": "code",
   "execution_count": 161,
   "id": "746dc8e4-ce75-4481-a27c-0ce5b57a0b9c",
   "metadata": {},
   "outputs": [],
   "source": [
    "path_to_file = tf.keras.utils.get_file(\n",
    "                'shakespeare.txt',\n",
    "                'https://storage.googleapis.com/download.tensorflow.org/data/shakespeare.txt')"
   ]
  },
  {
   "cell_type": "code",
   "execution_count": 162,
   "id": "851fbf83-1d8d-4721-8d18-70e705fcd574",
   "metadata": {},
   "outputs": [
    {
     "name": "stdout",
     "output_type": "stream",
     "text": [
      "First Citizen:\n",
      "Before we proceed any further, hear me speak.\n",
      "\n",
      "All:\n",
      "Speak, speak.\n",
      "\n",
      "First Citizen:\n",
      "You are all resolved rather to die than to famish?\n",
      "\n",
      "All:\n",
      "Resolved. resolved.\n",
      "\n",
      "First Citizen:\n",
      "First, you know Caius Marcius is chief enemy to the people.\n",
      "\n",
      "All:\n",
      "We know't, we know't.\n",
      "\n",
      "First Citizen:\n",
      "Let us kill him, and we'll have corn at our own price.\n"
     ]
    }
   ],
   "source": [
    "with open(path_to_file) as f: \n",
    "    lines = f.read().splitlines()\n",
    "for line in lines[:20]:\n",
    "    print(line)"
   ]
  },
  {
   "cell_type": "code",
   "execution_count": 163,
   "id": "e721dd38-beae-42e7-b52f-4555f9acf87a",
   "metadata": {},
   "outputs": [],
   "source": [
    "text_ds = tf.data.TextLineDataset(path_to_file).filter(lambda x: tf.cast(tf.strings.length(x), bool))"
   ]
  },
  {
   "cell_type": "code",
   "execution_count": 164,
   "id": "b13601f3-38e6-44d7-b0f7-370acc7e376f",
   "metadata": {},
   "outputs": [
    {
     "name": "stdout",
     "output_type": "stream",
     "text": [
      "['First Citizen:', 'Before we proceed any further, hear me speak.', 'All:', 'Speak, speak.', 'First Citizen:']\n"
     ]
    }
   ],
   "source": [
    "print( [ x.numpy().decode() for x in text_ds.take(5) ])"
   ]
  },
  {
   "cell_type": "code",
   "execution_count": 165,
   "id": "78eb2f33-744d-48d3-be93-9e2d9b5a61c0",
   "metadata": {},
   "outputs": [],
   "source": [
    "# Now, create a customer standardization function to lowercase the text\n",
    "# and remove punctuation\n",
    "def custom_standardization(input_data):\n",
    "    lowercase = tf.strings.lower(input_data)\n",
    "    no_punct = tf.strings.regex_replace(lowercase, f\"[{re.escape(string.punctuation)}]\", '')\n",
    "    return no_punct\n",
    "\n",
    "# Define the vocabulary size and number of words in a sentence\n",
    "vocab_size = 4096\n",
    "sequence_length = 10\n",
    "\n",
    "# Use the TextVectorization laye to normalize, split, and map strings to integers.\n",
    "# Set output_sequence_length length to pad all samples to same length.\n",
    "vectorize_layer = layers.TextVectorization(\n",
    "    standardize=custom_standardization,\n",
    "    max_tokens=vocab_size,\n",
    "    output_mode='int',\n",
    "    output_sequence_length=sequence_length\n",
    "    )"
   ]
  },
  {
   "cell_type": "code",
   "execution_count": 166,
   "id": "a0326620-45d5-45ba-a4f9-6c250d94eb00",
   "metadata": {},
   "outputs": [],
   "source": [
    "# Create the vocabulary\n",
    "vectorize_layer.adapt(text_ds.batch(1024))"
   ]
  },
  {
   "cell_type": "code",
   "execution_count": 167,
   "id": "77624f73-0c94-426c-b16c-aa587a9e54be",
   "metadata": {},
   "outputs": [
    {
     "name": "stdout",
     "output_type": "stream",
     "text": [
      "['', '[UNK]', 'the', 'and', 'to', 'i', 'of', 'you', 'my', 'a', 'that', 'in', 'is', 'not', 'for', 'with', 'me', 'it', 'be', 'your']\n"
     ]
    }
   ],
   "source": [
    "# Save the created vocabulary for reference\n",
    "inverse_vocab = vectorize_layer.get_vocabulary()\n",
    "print(inverse_vocab[:20])"
   ]
  },
  {
   "cell_type": "code",
   "execution_count": 168,
   "id": "c044af1b-b476-4d31-9e39-d16b5de14b11",
   "metadata": {},
   "outputs": [],
   "source": [
    "# Vectorize the data in text_ds\n",
    "text_vector_ds = text_ds.batch(1024).prefetch(AUTOTUNE).map(vectorize_layer).unbatch()"
   ]
  },
  {
   "cell_type": "code",
   "execution_count": 169,
   "id": "3d663d0a-a83f-49c9-b8de-6f8795e5d167",
   "metadata": {},
   "outputs": [
    {
     "name": "stdout",
     "output_type": "stream",
     "text": [
      "[[89, 270, 0, 0, 0, 0, 0, 0, 0, 0], [138, 36, 982, 144, 673, 125, 16, 106, 0, 0], [34, 0, 0, 0, 0, 0, 0, 0, 0, 0], [106, 106, 0, 0, 0, 0, 0, 0, 0, 0], [89, 270, 0, 0, 0, 0, 0, 0, 0, 0]]\n",
      "[['first', 'citizen'], ['before', 'we', 'proceed', 'any', 'further', 'hear', 'me', 'speak'], ['all'], ['speak', 'speak'], ['first', 'citizen']]\n"
     ]
    }
   ],
   "source": [
    "print( [ [ v for v in x.numpy() ] for x in text_vector_ds.take(5) ])\n",
    "print( [ [ inverse_vocab[v] for v in x.numpy() if v != 0 ] for x in text_vector_ds.take(5) ])"
   ]
  },
  {
   "cell_type": "code",
   "execution_count": 170,
   "id": "0c5895ba-e5f3-48cc-b367-df944a2217d0",
   "metadata": {},
   "outputs": [
    {
     "name": "stdout",
     "output_type": "stream",
     "text": [
      "32777\n"
     ]
    }
   ],
   "source": [
    "sequences = list( text_vector_ds.as_numpy_iterator() )\n",
    "print(len(sequences))"
   ]
  },
  {
   "cell_type": "code",
   "execution_count": 171,
   "id": "ea8460ac-e7d9-4a8e-b26d-66d2a1c66a1f",
   "metadata": {},
   "outputs": [
    {
     "name": "stdout",
     "output_type": "stream",
     "text": [
      "[ 89 270   0   0   0   0   0   0   0   0] => ['first', 'citizen', '', '', '', '', '', '', '', '']\n",
      "[138  36 982 144 673 125  16 106   0   0] => ['before', 'we', 'proceed', 'any', 'further', 'hear', 'me', 'speak', '', '']\n",
      "[34  0  0  0  0  0  0  0  0  0] => ['all', '', '', '', '', '', '', '', '', '']\n",
      "[106 106   0   0   0   0   0   0   0   0] => ['speak', 'speak', '', '', '', '', '', '', '', '']\n",
      "[ 89 270   0   0   0   0   0   0   0   0] => ['first', 'citizen', '', '', '', '', '', '', '', '']\n"
     ]
    }
   ],
   "source": [
    "for seq in sequences[:5]:\n",
    "    print(f\"{seq} => {[inverse_vocab[i] for i in seq]}\")"
   ]
  },
  {
   "cell_type": "code",
   "execution_count": 172,
   "id": "2d8bc231-d058-4baa-abab-1e064bbf286f",
   "metadata": {},
   "outputs": [
    {
     "data": {
      "text/plain": [
       "[array([ 89, 270,   0,   0,   0,   0,   0,   0,   0,   0], dtype=int64),\n",
       " array([138,  36, 982, 144, 673, 125,  16, 106,   0,   0], dtype=int64)]"
      ]
     },
     "execution_count": 172,
     "metadata": {},
     "output_type": "execute_result"
    }
   ],
   "source": [
    "[ x.numpy() for x in text_vector_ds.take(2) ]"
   ]
  },
  {
   "cell_type": "code",
   "execution_count": 173,
   "id": "22bf8dd3-a670-4ac2-b2b4-e92bdaa55f30",
   "metadata": {},
   "outputs": [
    {
     "name": "stderr",
     "output_type": "stream",
     "text": [
      "100%|██████████| 32777/32777 [00:15<00:00, 2180.74it/s]\n"
     ]
    },
    {
     "name": "stdout",
     "output_type": "stream",
     "text": [
      "\n",
      "\n",
      "targets.shape: (64952,)\n",
      "contexts.shape: (64952, 5)\n",
      "labels.shape: (64952, 5)\n"
     ]
    }
   ],
   "source": [
    "targets, contexts, labels = generate_training_data(\n",
    "    sequences=sequences,\n",
    "    window_size=2,\n",
    "    num_ns=4,\n",
    "    vocab_size=vocab_size,\n",
    "    seed=SEED\n",
    "    )\n",
    "\n",
    "targets = np.array(targets)\n",
    "contexts = np.array(contexts)[:,:,0]\n",
    "labels = np.array(labels)\n",
    "\n",
    "print('\\n')\n",
    "print(f\"targets.shape: {targets.shape}\")\n",
    "print(f\"contexts.shape: {contexts.shape}\")\n",
    "print(f\"labels.shape: {labels.shape}\")"
   ]
  },
  {
   "cell_type": "code",
   "execution_count": 176,
   "id": "9719ff9f-6d14-437e-beac-1dddafdaaa9c",
   "metadata": {},
   "outputs": [
    {
     "name": "stdout",
     "output_type": "stream",
     "text": [
      "93\n",
      "[ 89  62 969  50   1]\n",
      "[1 0 0 0 0]\n"
     ]
    }
   ],
   "source": [
    "print(targets[2])\n",
    "print(contexts[2])\n",
    "print(labels[2])"
   ]
  },
  {
   "cell_type": "code",
   "execution_count": 178,
   "id": "0b64ef9d-dba5-40e8-a8bd-a4ff7f7c0929",
   "metadata": {},
   "outputs": [
    {
     "name": "stdout",
     "output_type": "stream",
     "text": [
      "<BatchDataset shapes: (((1024,), (1024, 5)), (1024, 5)), types: ((tf.int64, tf.int64), tf.int64)>\n"
     ]
    }
   ],
   "source": [
    "BATCH_SIZE = 1024\n",
    "BUFFER_SIZE = 10000\n",
    "dataset = tf.data.Dataset.from_tensor_slices( ( (targets,contexts), labels ))\n",
    "dataset = dataset.shuffle(BUFFER_SIZE).batch(BATCH_SIZE, drop_remainder=True)\n",
    "print(dataset)"
   ]
  },
  {
   "cell_type": "code",
   "execution_count": 179,
   "id": "bba74297-8455-4775-ada2-5b6ef2af5a29",
   "metadata": {},
   "outputs": [
    {
     "name": "stdout",
     "output_type": "stream",
     "text": [
      "<PrefetchDataset shapes: (((1024,), (1024, 5)), (1024, 5)), types: ((tf.int64, tf.int64), tf.int64)>\n"
     ]
    }
   ],
   "source": [
    "dataset = dataset.cache().prefetch(buffer_size=AUTOTUNE)\n",
    "print(dataset)"
   ]
  },
  {
   "cell_type": "markdown",
   "id": "3f377643-cac3-4377-ae4e-e6dd3b92268c",
   "metadata": {},
   "source": [
    "## Model and Training"
   ]
  },
  {
   "cell_type": "code",
   "execution_count": 182,
   "id": "0258c691-a418-48de-8789-82abb9b33f54",
   "metadata": {},
   "outputs": [],
   "source": [
    "# Word2Vec Model subclass\n",
    "class Word2Vec(tf.keras.Model):\n",
    "    def __init__(self, vocab_size, embedding_dim):\n",
    "        super(Word2Vec, self).__init__()\n",
    "        self.target_embedding = layers.Embedding(vocab_size, embedding_dim,\n",
    "                                                 input_length=1, name='w2v_embedding')\n",
    "        self.context_embedding = layers.Embedding(vocab_size, embedding_dim,\n",
    "                                                 input_length=num_ns+1)\n",
    "        \n",
    "    def call(self, pair):\n",
    "        # target shape: (batch, dummy?)  -- The dummy axis doesn't exist in TF2.7+\n",
    "        # context shape: (batch, context)\n",
    "        target, context = pair\n",
    "        \n",
    "        # Remove dummy axis if present to get to\n",
    "        # target shape: (batch,)\n",
    "        if len(target.shape) == 2:\n",
    "            target = tf.squeeze(target, axis=1)\n",
    "        \n",
    "        # word_emb shape: (batch, embed)\n",
    "        word_emb = self.target_embedding(target)\n",
    "        \n",
    "        # context_emb shape: (batch, context, embed)\n",
    "        context_emb = self.context_embedding(context)\n",
    "        \n",
    "        # dots shape: (batch, context)\n",
    "        dots = tf.einsum('be,bce->bc', word_emb, context_emb)\n",
    "        \n",
    "        # Return dot production = the prediction of labels\n",
    "        return dots"
   ]
  },
  {
   "cell_type": "code",
   "execution_count": 183,
   "id": "4993a75b-942d-46dc-8a11-e4ad00429bef",
   "metadata": {},
   "outputs": [],
   "source": [
    "# Optional: Custom Loss Function (or can just use tf.keras.losses.CategoricalCrossEntropy)\n",
    "def custom_loss(x_logit, y_true):\n",
    "    return tf.nn.sigmoid_cross_entropy_with_logits(logits=x_logit, labels=y_true)"
   ]
  },
  {
   "cell_type": "code",
   "execution_count": 185,
   "id": "694a8817-9ac9-4fb7-9e19-236731c6e08c",
   "metadata": {},
   "outputs": [],
   "source": [
    "# Instantiate and compile the model\n",
    "embedding_dim = 128\n",
    "word2vec = Word2Vec( vocab_size, embedding_dim )\n",
    "word2vec.compile(optimizer='adam',\n",
    "                 loss=tf.keras.losses.CategoricalCrossentropy(from_logits=True),\n",
    "                 metrics=['accuracy']\n",
    "                )"
   ]
  },
  {
   "cell_type": "code",
   "execution_count": 186,
   "id": "ea59c0dc-5b0b-4f33-8c74-d51fddfd08a6",
   "metadata": {},
   "outputs": [],
   "source": [
    "# Define a callbck to log training statistics for tensorboard\n",
    "tensorboard_callback = tf.keras.callbacks.TensorBoard(log_dir='logs')"
   ]
  },
  {
   "cell_type": "code",
   "execution_count": 187,
   "id": "bae1e8ff-7c51-438d-91b7-672f66e75c4e",
   "metadata": {},
   "outputs": [
    {
     "name": "stdout",
     "output_type": "stream",
     "text": [
      "Epoch 1/20\n",
      "63/63 [==============================] - 3s 26ms/step - loss: 1.6082 - accuracy: 0.2351\n",
      "Epoch 2/20\n",
      "63/63 [==============================] - 1s 21ms/step - loss: 1.5888 - accuracy: 0.5567\n",
      "Epoch 3/20\n",
      "63/63 [==============================] - 1s 21ms/step - loss: 1.5410 - accuracy: 0.6052\n",
      "Epoch 4/20\n",
      "63/63 [==============================] - 1s 22ms/step - loss: 1.4573 - accuracy: 0.5786\n",
      "Epoch 5/20\n",
      "63/63 [==============================] - 1s 21ms/step - loss: 1.3576 - accuracy: 0.5832\n",
      "Epoch 6/20\n",
      "63/63 [==============================] - 1s 22ms/step - loss: 1.2592 - accuracy: 0.6088\n",
      "Epoch 7/20\n",
      "63/63 [==============================] - 1s 22ms/step - loss: 1.1678 - accuracy: 0.6423\n",
      "Epoch 8/20\n",
      "63/63 [==============================] - 1s 22ms/step - loss: 1.0833 - accuracy: 0.6754\n",
      "Epoch 9/20\n",
      "63/63 [==============================] - 1s 22ms/step - loss: 1.0052 - accuracy: 0.7074\n",
      "Epoch 10/20\n",
      "63/63 [==============================] - 1s 22ms/step - loss: 0.9329 - accuracy: 0.7372\n",
      "Epoch 11/20\n",
      "63/63 [==============================] - 1s 22ms/step - loss: 0.8660 - accuracy: 0.7642\n",
      "Epoch 12/20\n",
      "63/63 [==============================] - 1s 21ms/step - loss: 0.8043 - accuracy: 0.7871\n",
      "Epoch 13/20\n",
      "63/63 [==============================] - 1s 21ms/step - loss: 0.7476 - accuracy: 0.8074\n",
      "Epoch 14/20\n",
      "63/63 [==============================] - 1s 22ms/step - loss: 0.6955 - accuracy: 0.8249\n",
      "Epoch 15/20\n",
      "63/63 [==============================] - 1s 21ms/step - loss: 0.6478 - accuracy: 0.8399\n",
      "Epoch 16/20\n",
      "63/63 [==============================] - 1s 22ms/step - loss: 0.6042 - accuracy: 0.8533\n",
      "Epoch 17/20\n",
      "63/63 [==============================] - 1s 22ms/step - loss: 0.5644 - accuracy: 0.8665\n",
      "Epoch 18/20\n",
      "63/63 [==============================] - 1s 21ms/step - loss: 0.5281 - accuracy: 0.8777\n",
      "Epoch 19/20\n",
      "63/63 [==============================] - 1s 22ms/step - loss: 0.4951 - accuracy: 0.8880\n",
      "Epoch 20/20\n",
      "63/63 [==============================] - 1s 21ms/step - loss: 0.4650 - accuracy: 0.8974\n"
     ]
    },
    {
     "data": {
      "text/plain": [
       "<keras.callbacks.History at 0x25070707ca0>"
      ]
     },
     "execution_count": 187,
     "metadata": {},
     "output_type": "execute_result"
    }
   ],
   "source": [
    "# Train the model with the dataset prepared above for a number of epochs\n",
    "word2vec.fit(dataset, epochs=20, callbacks=[tensorboard_callback])"
   ]
  },
  {
   "cell_type": "code",
   "execution_count": 188,
   "id": "c2473848-4c89-4d40-88ed-ced4bac99105",
   "metadata": {},
   "outputs": [
    {
     "data": {
      "text/plain": [
       "Reusing TensorBoard on port 6006 (pid 23932), started 22:14:32 ago. (Use '!kill 23932' to kill it.)"
      ]
     },
     "metadata": {},
     "output_type": "display_data"
    },
    {
     "data": {
      "text/html": [
       "\n",
       "      <iframe id=\"tensorboard-frame-81bc17edb093691b\" width=\"100%\" height=\"800\" frameborder=\"0\">\n",
       "      </iframe>\n",
       "      <script>\n",
       "        (function() {\n",
       "          const frame = document.getElementById(\"tensorboard-frame-81bc17edb093691b\");\n",
       "          const url = new URL(\"/\", window.location);\n",
       "          const port = 6006;\n",
       "          if (port) {\n",
       "            url.port = port;\n",
       "          }\n",
       "          frame.src = url;\n",
       "        })();\n",
       "      </script>\n",
       "    "
      ],
      "text/plain": [
       "<IPython.core.display.HTML object>"
      ]
     },
     "metadata": {},
     "output_type": "display_data"
    }
   ],
   "source": [
    "%tensorboard --logdir logs"
   ]
  },
  {
   "cell_type": "markdown",
   "id": "8a8a53e1-5210-4edd-a4cc-dcafb638f17e",
   "metadata": {},
   "source": [
    "## Embedding Lookup and Analysis"
   ]
  },
  {
   "cell_type": "code",
   "execution_count": 189,
   "id": "36f50b6a-55e2-4fce-a092-6383a39b65e0",
   "metadata": {},
   "outputs": [],
   "source": [
    "# Obtain model weights and vocabulary\n",
    "weights = word2vec.get_layer('w2v_embedding').get_weights()[0]\n",
    "vocab = vectorize_layer.get_vocabulary()"
   ]
  },
  {
   "cell_type": "code",
   "execution_count": 191,
   "id": "ac17859f-3471-448b-8aec-7c3db7ef6511",
   "metadata": {},
   "outputs": [],
   "source": [
    "# Create and save the vectors and metadata file\n",
    "with io.open('./data/vectors.tsv', 'w', encoding='utf-8') as out_v:\n",
    "    with io.open('./data/metadata.tsv', 'w', encoding='utf-8') as out_m:\n",
    "        for i,w in enumerate(vocab):\n",
    "            \n",
    "            # Skip index 0 => padding\n",
    "            if i==0:\n",
    "                continue\n",
    "                \n",
    "            vec = weights[i]\n",
    "            out_v.write( '\\t'.join([str(x) for x in vec]) + '\\n')\n",
    "            out_m.write(w + '\\n')"
   ]
  },
  {
   "cell_type": "markdown",
   "id": "534e8fd9-0816-4c84-b7f3-e17f001f3e40",
   "metadata": {},
   "source": [
    "## Visualize the Embeddings\n",
    "* Tensorflow Embedding Projector: http://projector.tensorflow.org/\n",
    "* Click on \"Load data\".\n",
    "* Upload the two files you created above: vecs.tsv and meta.tsv."
   ]
  },
  {
   "cell_type": "code",
   "execution_count": null,
   "id": "95fce7c0-1fa1-42c8-bb08-fed08305cd56",
   "metadata": {},
   "outputs": [],
   "source": []
  }
 ],
 "metadata": {
  "kernelspec": {
   "display_name": "Python [conda env:py38]",
   "language": "python",
   "name": "conda-env-py38-py"
  },
  "language_info": {
   "codemirror_mode": {
    "name": "ipython",
    "version": 3
   },
   "file_extension": ".py",
   "mimetype": "text/x-python",
   "name": "python",
   "nbconvert_exporter": "python",
   "pygments_lexer": "ipython3",
   "version": "3.8.11"
  }
 },
 "nbformat": 4,
 "nbformat_minor": 5
}
